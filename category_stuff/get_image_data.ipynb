{
 "cells": [
  {
   "cell_type": "code",
   "execution_count": 1,
   "metadata": {
    "collapsed": true,
    "deletable": true,
    "editable": true
   },
   "outputs": [],
   "source": [
    "import tensorflow as tf\n",
    "slim = tf.contrib.slim\n",
    "from PIL import Image\n",
    "from vgg import *\n",
    "import numpy as np\n",
    "import requests\n",
    "from io import BytesIO\n",
    "#from math import \n",
    "import time\n",
    "\n",
    "from PIL import ImageFile\n",
    "ImageFile.LOAD_TRUNCATED_IMAGES = True\n",
    "\n",
    "%matplotlib inline"
   ]
  },
  {
   "cell_type": "code",
   "execution_count": 3,
   "metadata": {
    "collapsed": true
   },
   "outputs": [],
   "source": [
    "import pickle as pkl"
   ]
  },
  {
   "cell_type": "code",
   "execution_count": 4,
   "metadata": {
    "collapsed": false,
    "deletable": true,
    "editable": true
   },
   "outputs": [],
   "source": [
    "id_img_dict = pkl.load(open('id_img3.p', 'rb'))"
   ]
  },
  {
   "cell_type": "code",
   "execution_count": 23,
   "metadata": {
    "collapsed": false
   },
   "outputs": [
    {
     "name": "stdout",
     "output_type": "stream",
     "text": [
      "> <ipython-input-22-a9e6c37eceaf>(20)get_image()\n",
      "-> width, height = img.size\n",
      "(Pdb) img\n",
      "<PIL.PngImagePlugin.PngImageFile image mode=RGBA size=1600x1011 at 0x11C371DA0>\n",
      "(Pdb) img.shape\n",
      "*** AttributeError: 'PngImageFile' object has no attribute 'shape'\n",
      "(Pdb) img.mode\n",
      "'RGBA'\n",
      "(Pdb) img.mode == 'RGB'\n",
      "False\n",
      "(Pdb) img.mode == 'RGBA'\n",
      "True\n",
      "(Pdb)         tmp = Image.new(\"RGB\", img.size, (255, 255, 255))\n",
      "(Pdb)         tmp.paste(img, mask=img.split()[3]) # 3 is the alpha channel\n",
      "(Pdb) tmp.show()\n",
      "(Pdb) tmp\n",
      "<PIL.Image.Image image mode=RGB size=1600x1011 at 0x11C3711D0>\n",
      "(Pdb) quit\n"
     ]
    },
    {
     "ename": "BdbQuit",
     "evalue": "",
     "output_type": "error",
     "traceback": [
      "\u001b[0;31m---------------------------------------------------------------------------\u001b[0m",
      "\u001b[0;31mBdbQuit\u001b[0m                                   Traceback (most recent call last)",
      "\u001b[0;32m<ipython-input-23-d4a04ca538b2>\u001b[0m in \u001b[0;36m<module>\u001b[0;34m()\u001b[0m\n\u001b[0;32m----> 1\u001b[0;31m \u001b[0mget_image\u001b[0m\u001b[0;34m(\u001b[0m\u001b[0;36m0\u001b[0m\u001b[0;34m,\u001b[0m \u001b[0;34m(\u001b[0m\u001b[0;34m'https://img00.deviantart.net/9240/i/2017/073/a/1/rhys_alder_by_nanocolors-db2a39s.png'\u001b[0m\u001b[0;34m,\u001b[0m \u001b[0;36m0\u001b[0m\u001b[0;34m)\u001b[0m\u001b[0;34m)\u001b[0m\u001b[0;34m\u001b[0m\u001b[0m\n\u001b[0m",
      "\u001b[0;32m<ipython-input-22-a9e6c37eceaf>\u001b[0m in \u001b[0;36mget_image\u001b[0;34m(_id, data)\u001b[0m\n\u001b[1;32m     18\u001b[0m     \u001b[0;32mimport\u001b[0m \u001b[0mpdb\u001b[0m\u001b[0;34m;\u001b[0m \u001b[0mpdb\u001b[0m\u001b[0;34m.\u001b[0m\u001b[0mset_trace\u001b[0m\u001b[0;34m(\u001b[0m\u001b[0;34m)\u001b[0m\u001b[0;34m\u001b[0m\u001b[0m\n\u001b[1;32m     19\u001b[0m \u001b[0;34m\u001b[0m\u001b[0m\n\u001b[0;32m---> 20\u001b[0;31m     \u001b[0mwidth\u001b[0m\u001b[0;34m,\u001b[0m \u001b[0mheight\u001b[0m \u001b[0;34m=\u001b[0m \u001b[0mimg\u001b[0m\u001b[0;34m.\u001b[0m\u001b[0msize\u001b[0m\u001b[0;34m\u001b[0m\u001b[0m\n\u001b[0m\u001b[1;32m     21\u001b[0m     \u001b[0mhalf_width\u001b[0m\u001b[0;34m,\u001b[0m \u001b[0mhalf_height\u001b[0m \u001b[0;34m=\u001b[0m \u001b[0mint\u001b[0m\u001b[0;34m(\u001b[0m\u001b[0mwidth\u001b[0m\u001b[0;34m/\u001b[0m\u001b[0;36m2\u001b[0m\u001b[0;34m)\u001b[0m\u001b[0;34m,\u001b[0m \u001b[0mint\u001b[0m\u001b[0;34m(\u001b[0m\u001b[0mheight\u001b[0m\u001b[0;34m/\u001b[0m\u001b[0;36m2\u001b[0m\u001b[0;34m)\u001b[0m\u001b[0;34m\u001b[0m\u001b[0m\n\u001b[1;32m     22\u001b[0m     \u001b[0moffset\u001b[0m \u001b[0;34m=\u001b[0m \u001b[0mmin\u001b[0m\u001b[0;34m(\u001b[0m\u001b[0mhalf_width\u001b[0m\u001b[0;34m,\u001b[0m \u001b[0mhalf_height\u001b[0m\u001b[0;34m)\u001b[0m\u001b[0;34m\u001b[0m\u001b[0m\n",
      "\u001b[0;32m<ipython-input-22-a9e6c37eceaf>\u001b[0m in \u001b[0;36mget_image\u001b[0;34m(_id, data)\u001b[0m\n\u001b[1;32m     18\u001b[0m     \u001b[0;32mimport\u001b[0m \u001b[0mpdb\u001b[0m\u001b[0;34m;\u001b[0m \u001b[0mpdb\u001b[0m\u001b[0;34m.\u001b[0m\u001b[0mset_trace\u001b[0m\u001b[0;34m(\u001b[0m\u001b[0;34m)\u001b[0m\u001b[0;34m\u001b[0m\u001b[0m\n\u001b[1;32m     19\u001b[0m \u001b[0;34m\u001b[0m\u001b[0m\n\u001b[0;32m---> 20\u001b[0;31m     \u001b[0mwidth\u001b[0m\u001b[0;34m,\u001b[0m \u001b[0mheight\u001b[0m \u001b[0;34m=\u001b[0m \u001b[0mimg\u001b[0m\u001b[0;34m.\u001b[0m\u001b[0msize\u001b[0m\u001b[0;34m\u001b[0m\u001b[0m\n\u001b[0m\u001b[1;32m     21\u001b[0m     \u001b[0mhalf_width\u001b[0m\u001b[0;34m,\u001b[0m \u001b[0mhalf_height\u001b[0m \u001b[0;34m=\u001b[0m \u001b[0mint\u001b[0m\u001b[0;34m(\u001b[0m\u001b[0mwidth\u001b[0m\u001b[0;34m/\u001b[0m\u001b[0;36m2\u001b[0m\u001b[0;34m)\u001b[0m\u001b[0;34m,\u001b[0m \u001b[0mint\u001b[0m\u001b[0;34m(\u001b[0m\u001b[0mheight\u001b[0m\u001b[0;34m/\u001b[0m\u001b[0;36m2\u001b[0m\u001b[0;34m)\u001b[0m\u001b[0;34m\u001b[0m\u001b[0m\n\u001b[1;32m     22\u001b[0m     \u001b[0moffset\u001b[0m \u001b[0;34m=\u001b[0m \u001b[0mmin\u001b[0m\u001b[0;34m(\u001b[0m\u001b[0mhalf_width\u001b[0m\u001b[0;34m,\u001b[0m \u001b[0mhalf_height\u001b[0m\u001b[0;34m)\u001b[0m\u001b[0;34m\u001b[0m\u001b[0m\n",
      "\u001b[0;32m/usr/local/Cellar/python3/3.6.1/Frameworks/Python.framework/Versions/3.6/lib/python3.6/bdb.py\u001b[0m in \u001b[0;36mtrace_dispatch\u001b[0;34m(self, frame, event, arg)\u001b[0m\n\u001b[1;32m     46\u001b[0m             \u001b[0;32mreturn\u001b[0m \u001b[0;31m# None\u001b[0m\u001b[0;34m\u001b[0m\u001b[0m\n\u001b[1;32m     47\u001b[0m         \u001b[0;32mif\u001b[0m \u001b[0mevent\u001b[0m \u001b[0;34m==\u001b[0m \u001b[0;34m'line'\u001b[0m\u001b[0;34m:\u001b[0m\u001b[0;34m\u001b[0m\u001b[0m\n\u001b[0;32m---> 48\u001b[0;31m             \u001b[0;32mreturn\u001b[0m \u001b[0mself\u001b[0m\u001b[0;34m.\u001b[0m\u001b[0mdispatch_line\u001b[0m\u001b[0;34m(\u001b[0m\u001b[0mframe\u001b[0m\u001b[0;34m)\u001b[0m\u001b[0;34m\u001b[0m\u001b[0m\n\u001b[0m\u001b[1;32m     49\u001b[0m         \u001b[0;32mif\u001b[0m \u001b[0mevent\u001b[0m \u001b[0;34m==\u001b[0m \u001b[0;34m'call'\u001b[0m\u001b[0;34m:\u001b[0m\u001b[0;34m\u001b[0m\u001b[0m\n\u001b[1;32m     50\u001b[0m             \u001b[0;32mreturn\u001b[0m \u001b[0mself\u001b[0m\u001b[0;34m.\u001b[0m\u001b[0mdispatch_call\u001b[0m\u001b[0;34m(\u001b[0m\u001b[0mframe\u001b[0m\u001b[0;34m,\u001b[0m \u001b[0marg\u001b[0m\u001b[0;34m)\u001b[0m\u001b[0;34m\u001b[0m\u001b[0m\n",
      "\u001b[0;32m/usr/local/Cellar/python3/3.6.1/Frameworks/Python.framework/Versions/3.6/lib/python3.6/bdb.py\u001b[0m in \u001b[0;36mdispatch_line\u001b[0;34m(self, frame)\u001b[0m\n\u001b[1;32m     65\u001b[0m         \u001b[0;32mif\u001b[0m \u001b[0mself\u001b[0m\u001b[0;34m.\u001b[0m\u001b[0mstop_here\u001b[0m\u001b[0;34m(\u001b[0m\u001b[0mframe\u001b[0m\u001b[0;34m)\u001b[0m \u001b[0;32mor\u001b[0m \u001b[0mself\u001b[0m\u001b[0;34m.\u001b[0m\u001b[0mbreak_here\u001b[0m\u001b[0;34m(\u001b[0m\u001b[0mframe\u001b[0m\u001b[0;34m)\u001b[0m\u001b[0;34m:\u001b[0m\u001b[0;34m\u001b[0m\u001b[0m\n\u001b[1;32m     66\u001b[0m             \u001b[0mself\u001b[0m\u001b[0;34m.\u001b[0m\u001b[0muser_line\u001b[0m\u001b[0;34m(\u001b[0m\u001b[0mframe\u001b[0m\u001b[0;34m)\u001b[0m\u001b[0;34m\u001b[0m\u001b[0m\n\u001b[0;32m---> 67\u001b[0;31m             \u001b[0;32mif\u001b[0m \u001b[0mself\u001b[0m\u001b[0;34m.\u001b[0m\u001b[0mquitting\u001b[0m\u001b[0;34m:\u001b[0m \u001b[0;32mraise\u001b[0m \u001b[0mBdbQuit\u001b[0m\u001b[0;34m\u001b[0m\u001b[0m\n\u001b[0m\u001b[1;32m     68\u001b[0m         \u001b[0;32mreturn\u001b[0m \u001b[0mself\u001b[0m\u001b[0;34m.\u001b[0m\u001b[0mtrace_dispatch\u001b[0m\u001b[0;34m\u001b[0m\u001b[0m\n\u001b[1;32m     69\u001b[0m \u001b[0;34m\u001b[0m\u001b[0m\n",
      "\u001b[0;31mBdbQuit\u001b[0m: "
     ]
    }
   ],
   "source": [
    "get_image(0, ('https://img00.deviantart.net/9240/i/2017/073/a/1/rhys_alder_by_nanocolors-db2a39s.png', 0))"
   ]
  },
  {
   "cell_type": "code",
   "execution_count": 25,
   "metadata": {
    "collapsed": true,
    "deletable": true,
    "editable": true
   },
   "outputs": [],
   "source": [
    "def get_image(_id, data):\n",
    "\n",
    "    url, artist = data\n",
    "    \n",
    "    response = requests.get(url)\n",
    "    count = 0\n",
    "    while response.status_code != 200:\n",
    "        if count > 25: return _id, None, None\n",
    "        time.sleep(1.0)\n",
    "        response = requests.get(url)\n",
    "        count += 1\n",
    "\n",
    "    try:\n",
    "        img = Image.open(BytesIO(response.content))\n",
    "    except OSError:\n",
    "        import pdb; pdb.set_trace()\n",
    "        return _id, None, None\n",
    "\n",
    "       \n",
    "    if img.mode == 'RGBA':\n",
    "        tmp = Image.new(\"RGB\", img.size, (255, 255, 255))\n",
    "        tmp.paste(img, mask=img.split()[3]) # 3 is the alpha channel\n",
    "        img = tmp\n",
    "\n",
    "    \n",
    "    width, height = img.size\n",
    "    half_width, half_height = int(width/2), int(height/2)\n",
    "    offset = min(half_width, half_height)\n",
    "    \n",
    "    sq_im = img.crop((half_width-offset, half_height-offset, half_width+offset, half_height+offset))\n",
    "    #q_im.thumbnail((224, 224))\n",
    "\n",
    "\n",
    "    #convert image\n",
    "    sq_im = sq_im.resize((224, 224), Image.BICUBIC)\n",
    "        \n",
    "        \n",
    "    im = np.array(sq_im, dtype='float32')\n",
    "    try: \n",
    "        im = im.reshape(-1,224,224,3)\n",
    "    except ValueError:\n",
    "        import pdb; pdb.set_trace()\n",
    "        return _id, None, None\n",
    "    \n",
    "    return _id, im, artist\n"
   ]
  },
  {
   "cell_type": "code",
   "execution_count": 6,
   "metadata": {
    "collapsed": true,
    "deletable": true,
    "editable": true
   },
   "outputs": [],
   "source": [
    "checkpoint_file = './vgg_16.ckpt'"
   ]
  },
  {
   "cell_type": "code",
   "execution_count": 7,
   "metadata": {
    "collapsed": true,
    "deletable": true,
    "editable": true
   },
   "outputs": [],
   "source": [
    "input_tensor = tf.placeholder(tf.float32, shape=(None,224,224,3), name='input_image')\n",
    "scaled_input_tensor = tf.scalar_mul((1.0/255), input_tensor)\n",
    "scaled_input_tensor = tf.subtract(scaled_input_tensor, 0.5)\n",
    "scaled_input_tensor = tf.multiply(scaled_input_tensor, 2.0)"
   ]
  },
  {
   "cell_type": "code",
   "execution_count": 8,
   "metadata": {
    "collapsed": true,
    "deletable": true,
    "editable": true
   },
   "outputs": [],
   "source": [
    "sess = tf.Session()\n",
    "arg_scope = vgg_arg_scope()\n",
    "with slim.arg_scope(arg_scope):\n",
    "    _, end_points = vgg_16(scaled_input_tensor, is_training=False)\n",
    "saver = tf.train.Saver()\n",
    "saver.restore(sess, checkpoint_file)"
   ]
  },
  {
   "cell_type": "code",
   "execution_count": 9,
   "metadata": {
    "collapsed": true,
    "deletable": true,
    "editable": true
   },
   "outputs": [],
   "source": [
    "id_feature_dict = pkl.load(open('id_feature_dict_with_artist3.p', 'rb'))"
   ]
  },
  {
   "cell_type": "code",
   "execution_count": 11,
   "metadata": {
    "collapsed": true
   },
   "outputs": [],
   "source": [
    "id_img_list = list(id_img_dict.items())\n",
    "id_img_list = [x for x in id_img_list if x[0] not in id_feature_dict]"
   ]
  },
  {
   "cell_type": "code",
   "execution_count": 13,
   "metadata": {
    "collapsed": true,
    "deletable": true,
    "editable": true
   },
   "outputs": [],
   "source": [
    "from tqdm import tqdm_notebook as tqdm"
   ]
  },
  {
   "cell_type": "code",
   "execution_count": null,
   "metadata": {
    "collapsed": false,
    "deletable": true,
    "editable": true
   },
   "outputs": [
    {
     "data": {
      "application/vnd.jupyter.widget-view+json": {
       "model_id": "7041791a6b604a88af08f9d415f0e341"
      }
     },
     "metadata": {},
     "output_type": "display_data"
    },
    {
     "name": "stdout",
     "output_type": "stream",
     "text": [
      "\n",
      "> <ipython-input-25-654294ff3949>(43)get_image()\n",
      "-> return _id, None, None\n",
      "(Pdb) img\n",
      "<PIL.PngImagePlugin.PngImageFile image mode=L size=1280x894 at 0x11010D7B8>\n",
      "(Pdb) im\n",
      "array([[ 195.,  195.,  195., ...,  195.,  195.,  195.],\n",
      "       [ 195.,  195.,  195., ...,  195.,  195.,  195.],\n",
      "       [ 195.,  195.,  195., ...,  195.,  195.,  195.],\n",
      "       ..., \n",
      "       [ 195.,  195.,  195., ...,  195.,  195.,  195.],\n",
      "       [ 195.,  195.,  195., ...,  195.,  195.,  195.],\n",
      "       [ 195.,  195.,  195., ...,  195.,  195.,  195.]], dtype=float32)\n",
      "(Pdb) im.shape\n",
      "(224, 224)\n",
      "(Pdb) continue\n",
      "\n",
      "Program interrupted. (Use 'cont' to resume).\n",
      "--Call--\n",
      "> /usr/local/Cellar/python3/3.6.1/Frameworks/Python.framework/Versions/3.6/lib/python3.6/contextlib.py(86)__exit__()\n",
      "-> def __exit__(self, type, value, traceback):\n"
     ]
    }
   ],
   "source": [
    "for _id, data in tqdm(id_img_list):\n",
    "    if _id in id_feature_dict: continue\n",
    "    _, im, artist = get_image(_id, data)\n",
    "    if im is None:\n",
    "        continue;\n",
    "    feats = np.squeeze(sess.run(end_points['vgg_16/fc7'], feed_dict={input_tensor: im}))\n",
    "    id_feature_dict[_id] = (feats, artist)"
   ]
  },
  {
   "cell_type": "code",
   "execution_count": 23,
   "metadata": {
    "collapsed": true,
    "deletable": true,
    "editable": true
   },
   "outputs": [],
   "source": [
    "pkl.dump(id_feature_dict, open('id_feature_dict_with_artist32.p', 'wb'))"
   ]
  },
  {
   "cell_type": "code",
   "execution_count": null,
   "metadata": {
    "collapsed": true,
    "deletable": true,
    "editable": true
   },
   "outputs": [],
   "source": [
    "sess.close()"
   ]
  }
 ],
 "metadata": {
  "kernelspec": {
   "display_name": "Python 3",
   "language": "python",
   "name": "python3"
  },
  "language_info": {
   "codemirror_mode": {
    "name": "ipython",
    "version": 3
   },
   "file_extension": ".py",
   "mimetype": "text/x-python",
   "name": "python",
   "nbconvert_exporter": "python",
   "pygments_lexer": "ipython3",
   "version": "3.6.1"
  }
 },
 "nbformat": 4,
 "nbformat_minor": 2
}
