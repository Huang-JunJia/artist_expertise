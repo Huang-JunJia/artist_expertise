{
 "cells": [
  {
   "cell_type": "code",
   "execution_count": 1,
   "metadata": {
    "collapsed": false,
    "deletable": true,
    "editable": true
   },
   "outputs": [],
   "source": [
    "import pickle as pkl\n",
    "data = pkl.load(open('favorited_dict3.p', 'rb'))\n",
    "max_item, max_user = pkl.load(open('useful_stats3.p', 'rb'))\n",
    "visual_data = pkl.load(open('id_feature_dict_with_artist3_2.p', 'rb'))"
   ]
  },
  {
   "cell_type": "code",
   "execution_count": 2,
   "metadata": {
    "collapsed": true,
    "deletable": true,
    "editable": true
   },
   "outputs": [],
   "source": [
    "from tqdm import tqdm_notebook as tqdm\n",
    "import numpy as np"
   ]
  },
  {
   "cell_type": "code",
   "execution_count": 3,
   "metadata": {
    "collapsed": true,
    "deletable": true,
    "editable": true
   },
   "outputs": [],
   "source": [
    "import matplotlib.pyplot as plt\n",
    "%matplotlib inline"
   ]
  },
  {
   "cell_type": "code",
   "execution_count": 4,
   "metadata": {
    "collapsed": true,
    "deletable": true,
    "editable": true
   },
   "outputs": [],
   "source": [
    "removed_items = set()\n",
    "for key in range(max_item):\n",
    "    if key not in visual_data:\n",
    "        removed_items.add(key)\n",
    "    else:\n",
    "        if not isinstance(visual_data[key][0], np.ndarray): \n",
    "            removed_items.add(key) # for some reason, these are floats. just remove them."
   ]
  },
  {
   "cell_type": "code",
   "execution_count": 5,
   "metadata": {
    "collapsed": true
   },
   "outputs": [],
   "source": [
    "for user in data:\n",
    "    rated_items = data[user]\n",
    "    removed = []\n",
    "    for item in rated_items:\n",
    "        if item in removed_items:\n",
    "            removed.append(item)\n",
    "    for item in removed:\n",
    "        rated_items.remove(item)\n",
    "    data[user] = rated_items"
   ]
  },
  {
   "cell_type": "code",
   "execution_count": 6,
   "metadata": {
    "collapsed": false,
    "deletable": true,
    "editable": true
   },
   "outputs": [],
   "source": [
    "users_to_remove = []\n",
    "for user in data:\n",
    "    images = np.unique(data[user]).tolist()\n",
    "    images = [image for image in images if image in visual_data]\n",
    "    if not images: users_to_remove.append(user)\n",
    "    else: data[user] = images\n",
    "\n",
    "for user in users_to_remove:\n",
    "    data.pop(user)"
   ]
  },
  {
   "cell_type": "code",
   "execution_count": 8,
   "metadata": {
    "collapsed": true
   },
   "outputs": [],
   "source": [
    "for key in visual_data:\n",
    "    visual_data[key] = visual_data[key][0]"
   ]
  },
  {
   "cell_type": "code",
   "execution_count": 9,
   "metadata": {
    "collapsed": true,
    "deletable": true,
    "editable": true
   },
   "outputs": [],
   "source": [
    "def create_validation(data):\n",
    "    valid = {}\n",
    "    for key in data:\n",
    "        rated_items = data[key]\n",
    "        if len(rated_items) > 1:\n",
    "            valid[key] = np.random.choice(rated_items)\n",
    "        else:\n",
    "            valid[key] = None\n",
    "    return valid\n",
    "        "
   ]
  },
  {
   "cell_type": "code",
   "execution_count": 10,
   "metadata": {
    "collapsed": true,
    "deletable": true,
    "editable": true
   },
   "outputs": [],
   "source": [
    "valid = create_validation(data)"
   ]
  },
  {
   "cell_type": "code",
   "execution_count": 11,
   "metadata": {
    "collapsed": false,
    "deletable": true,
    "editable": true
   },
   "outputs": [],
   "source": [
    "def sample_triple(data, valid, nSamples=1):\n",
    "    samples = np.zeros((nSamples, 3), dtype=int)\n",
    "    keys = list(data.keys())\n",
    "    users = np.random.choice(keys, nSamples) \n",
    "    samples[:, 0] = users\n",
    "    \n",
    "    for i, user in enumerate(tqdm(users)):\n",
    "        rated_items = data[user]\n",
    "        valid_item = valid[user]\n",
    "        unrated_item = np.random.choice(max_item)\n",
    "        while unrated_item in rated_items or unrated_item in removed_items or unrated_item == valid_item:\n",
    "            unrated_item = np.random.choice(max_item)\n",
    "            \n",
    "        rated_item = np.random.choice(rated_items)\n",
    "        while rated_item == valid_item:\n",
    "            rated_item = np.random.choice(rated_items)\n",
    "\n",
    "        samples[i, 1] = rated_item\n",
    "        samples[i, 2] = unrated_item\n",
    "            \n",
    "    return samples\n"
   ]
  },
  {
   "cell_type": "code",
   "execution_count": 12,
   "metadata": {
    "collapsed": true,
    "deletable": true,
    "editable": true
   },
   "outputs": [],
   "source": [
    "import math\n",
    "\n",
    "def sigmoid(x):\n",
    "    try:\n",
    "        if type(x) in (int, float, np.float64):\n",
    "            return 1 / (1 + math.exp(-x))\n",
    "        else:\n",
    "            if len(x) == 1:\n",
    "                x = np.squeeze(x)\n",
    "                return 1 / (1 + math.exp(-x))\n",
    "            else:\n",
    "                return 1 / (1 + np.exp(-x))\n",
    "    except OverflowError:\n",
    "        return 0"
   ]
  },
  {
   "cell_type": "code",
   "execution_count": 13,
   "metadata": {
    "collapsed": true,
    "deletable": true,
    "editable": true
   },
   "outputs": [],
   "source": [
    "#hyperparameters\n",
    "k=10\n",
    "n=10\n",
    "lr = 0.5 \n",
    "lr2 = 0.007\n",
    "lam_u = .01\n",
    "lam_bias = .01\n",
    "lam_rated = .01\n",
    "lam_unrated = .01\n",
    "lam_vf = .1\n",
    "lam_E = .10\n",
    "lam_vu = .10\n",
    "\n",
    "sf = 1"
   ]
  },
  {
   "cell_type": "code",
   "execution_count": 14,
   "metadata": {
    "collapsed": false,
    "deletable": true,
    "editable": true
   },
   "outputs": [],
   "source": [
    "item_biases = np.random.normal(size=max_item)\n",
    "latent_items = np.random.normal(size=(max_item, k), scale=0.1)\n",
    "latent_users = np.random.normal(size=(max_user, k), scale=0.1)\n",
    "visual_users = np.random.normal(size=(max_user, n), scale=0.1)\n",
    "E = np.random.normal(size=(4096, n))\n",
    "visual_bias = np.random.normal(size=(4096), scale=0.1)"
   ]
  },
  {
   "cell_type": "markdown",
   "metadata": {
    "deletable": true,
    "editable": true
   },
   "source": [
    "Note that all of the above values are regularized pretty good. The mean value is quite small. But the max visual_user is actually pretty big, so maybe it can use more regularization."
   ]
  },
  {
   "cell_type": "code",
   "execution_count": 15,
   "metadata": {
    "collapsed": false,
    "deletable": true,
    "editable": true
   },
   "outputs": [],
   "source": [
    "def BR_opt(rated_item_bias, unrated_item_bias, latent_user, latent_rated_item, \n",
    "           latent_unrated_item, E, vf_difference, visual_user, visual_bias):\n",
    "        \n",
    "\n",
    "    bias_difference = rated_item_bias - unrated_item_bias\n",
    "    \n",
    "    if latent_user.ndim == 1:\n",
    "        latent_difference = np.dot(latent_rated_item - latent_unrated_item, latent_user)\n",
    "    else:\n",
    "        latent_difference = np.einsum('ij,ji->i', latent_rated_item - latent_unrated_item, \n",
    "                                  np.transpose(latent_user)) \n",
    "        \n",
    "    vf_encoded = np.dot(np.transpose(E), vf_difference)\n",
    "    visual_difference = np.dot(vf_encoded, visual_user)\n",
    "    visual_bias_difference = np.dot(vf_difference, visual_bias)\n",
    "    '''else:\n",
    "        vf_encoded = np.dot(vf_difference, E)\n",
    "        visual_difference = np.einsum('ij,ji->i', vf_encoded, np.transpose(visual_user))\n",
    "        import pdb; pdb.set_trace()\n",
    "        visual_bias_difference = np.dot(vf_difference, visual_bias[:,None])'''\n",
    "    return (bias_difference + latent_difference + sf*visual_difference + visual_bias_difference)"
   ]
  },
  {
   "cell_type": "code",
   "execution_count": 16,
   "metadata": {
    "collapsed": true,
    "deletable": true,
    "editable": true
   },
   "outputs": [],
   "source": [
    "def create_valid_dataset(data, valid, nItems=10): #nItems is the number of items not in train/ valid \n",
    "    \n",
    "    valid_list = list(valid.items())\n",
    "    valid_users = [x[0] for x in valid_list if x[1] is not None]\n",
    "    valid_items = [x[1] for x in valid_list if x[1] is not None]\n",
    "    valid_users = np.repeat(valid_users, nItems)\n",
    "    valid_items = np.repeat(valid_items, nItems)\n",
    "    \n",
    "    samples = np.zeros((len(valid_users), 3), dtype=int)\n",
    "    samples[:, 0] = valid_users\n",
    "    samples[:, 1] = valid_items\n",
    "    \n",
    "    for i, user in enumerate(valid_users):\n",
    "        rated_items = data[user]\n",
    "        valid_item = valid[user]\n",
    "        unrated_item = np.random.choice(max_item)\n",
    "        while unrated_item in rated_items or unrated_item in removed_items or unrated_item == valid_item:\n",
    "            unrated_item = np.random.choice(max_item)\n",
    "            \n",
    "        samples[i, 2] = unrated_item\n",
    "        \n",
    "    return samples\n",
    "\n"
   ]
  },
  {
   "cell_type": "code",
   "execution_count": 17,
   "metadata": {
    "collapsed": false,
    "deletable": true,
    "editable": true
   },
   "outputs": [],
   "source": [
    "def AUC(data, valid, item_biases, latent_items, latent_users, visual_users, E, visual_bias):\n",
    "\n",
    "    samples = create_valid_dataset(data, valid, 5)\n",
    "\n",
    "    auc = 0.0\n",
    "    for user, rated_item, unrated_item in tqdm(samples):\n",
    "\n",
    "        # Extract out the relevant variables\n",
    "        rated_item_bias = item_biases[rated_item]\n",
    "        unrated_item_bias = item_biases[unrated_item]\n",
    "        latent_user = latent_users[user]\n",
    "        latent_rated_item = latent_items[rated_item]\n",
    "        latent_unrated_item = latent_items[unrated_item]\n",
    "\n",
    "        visual_user = visual_users[user]\n",
    "        rated_vf = visual_data[rated_item]\n",
    "        unrated_vf = visual_data[unrated_item]\n",
    "        vf_difference = rated_vf-unrated_vf\n",
    "        # Determine the output, i.e. x_uij \n",
    "        br_opt = BR_opt(rated_item_bias, unrated_item_bias, latent_user, latent_rated_item, latent_unrated_item,\n",
    "                        E, vf_difference, visual_user, visual_bias)\n",
    "\n",
    "        auc += (br_opt > 0)\n",
    "    return auc/len(samples)"
   ]
  },
  {
   "cell_type": "code",
   "execution_count": 19,
   "metadata": {
    "collapsed": false,
    "deletable": true,
    "editable": true
   },
   "outputs": [],
   "source": [
    "aucs = []"
   ]
  },
  {
   "cell_type": "code",
   "execution_count": 20,
   "metadata": {
    "collapsed": false,
    "deletable": true,
    "editable": true
   },
   "outputs": [
    {
     "data": {
      "application/vnd.jupyter.widget-view+json": {
       "model_id": "28e7038009e3481b81218fc722cbf600"
      }
     },
     "metadata": {},
     "output_type": "display_data"
    },
    {
     "name": "stdout",
     "output_type": "stream",
     "text": [
      "\n",
      "\n"
     ]
    },
    {
     "data": {
      "application/vnd.jupyter.widget-view+json": {
       "model_id": "b42d4f972ce545bca73cf4d64a92e5cc"
      }
     },
     "metadata": {},
     "output_type": "display_data"
    },
    {
     "name": "stdout",
     "output_type": "stream",
     "text": [
      "\r",
      "          \r",
      "999903/|/100%|| 999903/1000000 [14:20<00:00, 1162.48it/s]"
     ]
    },
    {
     "data": {
      "application/vnd.jupyter.widget-view+json": {
       "model_id": "5365451ebe884c0cbceea88b57c9749f"
      }
     },
     "metadata": {},
     "output_type": "display_data"
    },
    {
     "name": "stdout",
     "output_type": "stream",
     "text": [
      "\n"
     ]
    }
   ],
   "source": [
    "samples = sample_triple(data, valid, 1000000)\n",
    "count = 0\n",
    "\n",
    "'''ib_grads = []\n",
    "li_grads = []\n",
    "lu_grads = []\n",
    "vb_grads = []\n",
    "vu_grads = []\n",
    "E_grads = []'''\n",
    "\n",
    "for user, rated_item, unrated_item in tqdm(samples):\n",
    "\n",
    "    # ====== Extract out the relevant variables =====\n",
    "    rated_item_bias = item_biases[rated_item]\n",
    "    unrated_item_bias = item_biases[unrated_item]\n",
    "    latent_user = latent_users[user]\n",
    "    latent_rated_item = latent_items[rated_item]\n",
    "    latent_unrated_item = latent_items[unrated_item]\n",
    "    \n",
    "    visual_user = visual_users[user]\n",
    "    rated_vf = visual_data[rated_item]\n",
    "    unrated_vf = visual_data[unrated_item]\n",
    "    vf_difference = rated_vf-unrated_vf\n",
    "    # ===============================================\n",
    "\n",
    "\n",
    "    # ====== Determine the output, i.e. x_uij =======\n",
    "    br_opt = BR_opt(rated_item_bias, unrated_item_bias, latent_user, latent_rated_item, latent_unrated_item,\n",
    "                    E, vf_difference, visual_user, visual_bias)\n",
    "\n",
    "    output = sigmoid(-br_opt)\n",
    "    # ================================================\n",
    "\n",
    "\n",
    "\n",
    "    # ====== Get Gradients ===========================\n",
    "    ib_grad = output\n",
    "    li_grad = output * latent_user\n",
    "    lu_grad = output * (latent_rated_item-latent_unrated_item)\n",
    "    E_grad = sf*output * (np.dot((vf_difference)[:,None],visual_user[None,:]))\n",
    "    vu_grad = sf*output * np.dot(np.transpose(E), vf_difference)\n",
    "    vb_grad = output * (vf_difference)\n",
    "    \n",
    "    '''ib_grads.append(ib_grad)\n",
    "    li_grads.append(li_grad)\n",
    "    lu_grads.append(lu_grad)\n",
    "    vb_grads.append(vb_grad)\n",
    "    vu_grads.append(vu_grad)\n",
    "    E_grads.append(E_grad)'''\n",
    "    # ================================================\n",
    "\n",
    "\n",
    "    # ====== Update parameters =======================\n",
    "\n",
    "    item_biases[rated_item] = (1-lr*lam_bias) * rated_item_bias + lr*ib_grad\n",
    "    item_biases[unrated_item] = (1-lr*lam_bias) * unrated_item_bias - lr*ib_grad\n",
    "\n",
    "    latent_items[rated_item] = (1-lr*lam_rated) * latent_rated_item + lr*li_grad \n",
    "    latent_items[unrated_item] = (1-lr*lam_unrated) * latent_unrated_item - lr*li_grad \n",
    "\n",
    "    latent_users[user] = (1-lr*lam_unrated) * latent_user + lr*lu_grad\n",
    "        \n",
    "    E = (1-lr2*lam_E) * E + lr2*E_grad\n",
    "\n",
    "    visual_users[user] = (1-lr2*lam_vu) * visual_user + lr2*vu_grad\n",
    "    \n",
    "    visual_bias = (1-lr2*lam_vf)*visual_bias + lr2*vb_grad\n",
    "    # ================================================\n",
    "\n",
    "\n",
    "\n",
    "    count += 1\n",
    "    if count % 1000000 is 0:\n",
    "        aucs.append(AUC(data, valid, item_biases, latent_items, latent_users, visual_users, E, visual_bias))\n",
    "    #if count % 100000 is 0: lr = lr/2\n"
   ]
  },
  {
   "cell_type": "code",
   "execution_count": 21,
   "metadata": {
    "collapsed": false,
    "deletable": true,
    "editable": true
   },
   "outputs": [
    {
     "data": {
      "text/plain": [
       "[<matplotlib.lines.Line2D at 0x11c997588>]"
      ]
     },
     "execution_count": 21,
     "metadata": {},
     "output_type": "execute_result"
    },
    {
     "data": {
      "image/png": "[encoded data removed]",
      "text/plain": [
       "<matplotlib.figure.Figure at 0x114e11b00>"
      ]
     },
     "metadata": {},
     "output_type": "display_data"
    }
   ],
   "source": [
    "plt.plot(np.array(range(len(aucs)+1))*20000, [0.5]+aucs)"
   ]
  },
  {
   "cell_type": "code",
   "execution_count": 22,
   "metadata": {
    "collapsed": false,
    "deletable": true,
    "editable": true
   },
   "outputs": [
    {
     "data": {
      "text/plain": [
       "0.86865580679703946"
      ]
     },
     "execution_count": 22,
     "metadata": {},
     "output_type": "execute_result"
    }
   ],
   "source": [
    "min(aucs)"
   ]
  },
  {
   "cell_type": "code",
   "execution_count": null,
   "metadata": {
    "collapsed": false,
    "deletable": true,
    "editable": true
   },
   "outputs": [],
   "source": [
    "plt.figure()\n",
    "plt.plot(np.array(np.abs(ib_grads[-100:-1])))\n",
    "plt.plot(np.median(np.abs(np.array(lu_grads)), axis=1)[-100:-1])\n",
    "plt.plot(np.median(np.abs(np.array(li_grads)), axis=1)[-100:-1])\n",
    "plt.plot(np.median(np.abs(np.array(vb_grads)), axis=1)[-100:-1])\n",
    "plt.plot(np.median(np.abs(np.array(vu_grads), axis=1))[-100:-1])\n",
    "plt.plot(np.median(np.abs(np.array(E_grads), axis=(1,2)))[-100:-1])"
   ]
  },
  {
   "cell_type": "code",
   "execution_count": null,
   "metadata": {
    "collapsed": false,
    "deletable": true,
    "editable": true
   },
   "outputs": [],
   "source": [
    "plt.figure()\n",
    "plt.plot(np.array(np.abs(ib_grads[:100])))\n",
    "plt.plot(np.median(np.abs(np.array(lu_grads)), axis=1)[:100])\n",
    "plt.plot(np.median(np.abs(np.array(li_grads)), axis=1)[:100])\n",
    "plt.plot(np.median(np.abs(np.array(vb_grads)), axis=1)[:100])\n",
    "#plt.plot(np.median(np.array(vu_grads), axis=1))\n",
    "#plt.plot(np.median(np.array(E_grads), axis=(1,2)))"
   ]
  },
  {
   "cell_type": "code",
   "execution_count": null,
   "metadata": {
    "collapsed": false,
    "deletable": true,
    "editable": true
   },
   "outputs": [],
   "source": [
    "AUC(data, valid, item_biases, latent_items, latent_users, visual_users, E, visual_bias)"
   ]
  },
  {
   "cell_type": "markdown",
   "metadata": {
    "deletable": true,
    "editable": true
   },
   "source": [
    "item_biases = np.random.normal(size=max_item)\n",
    "latent_items = np.random.normal(size=(max_item, k))\n",
    "latent_users = np.random.normal(size=(max_user, k))\n",
    "visual_users = np.random.normal(size=(max_user, n))\n",
    "E = np.random.normal(size=(4096, n))\n",
    "visual_bias = np.random.normal(size=(4096))"
   ]
  },
  {
   "cell_type": "markdown",
   "metadata": {
    "collapsed": false,
    "deletable": true,
    "editable": true
   },
   "source": [
    "AUC(data, valid, item_biases, latent_items, latent_users, visual_users, E, visual_bias)"
   ]
  }
 ],
 "metadata": {
  "kernelspec": {
   "display_name": "Python 3",
   "language": "python",
   "name": "python3"
  },
  "language_info": {
   "codemirror_mode": {
    "name": "ipython",
    "version": 3
   },
   "file_extension": ".py",
   "mimetype": "text/x-python",
   "name": "python",
   "nbconvert_exporter": "python",
   "pygments_lexer": "ipython3",
   "version": "3.6.1"
  }
 },
 "nbformat": 4,
 "nbformat_minor": 2
}
