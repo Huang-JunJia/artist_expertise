{
 "cells": [
  {
   "cell_type": "code",
   "execution_count": 1,
   "metadata": {
    "collapsed": false,
    "deletable": true,
    "editable": true
   },
   "outputs": [],
   "source": [
    "import pickle as pkl\n",
    "data = pkl.load(open('favorited_dict.p', 'rb'))\n",
    "max_item, max_user = pkl.load(open('useful_stats.p', 'rb'))\n",
    "visual_data = pkl.load(open('id_feature_dict_davis.p', 'rb'))"
   ]
  },
  {
   "cell_type": "code",
   "execution_count": 2,
   "metadata": {
    "collapsed": true,
    "deletable": true,
    "editable": true
   },
   "outputs": [],
   "source": [
    "from tqdm import tqdm_notebook as tqdm\n",
    "import numpy as np"
   ]
  },
  {
   "cell_type": "code",
   "execution_count": 3,
   "metadata": {
    "collapsed": true,
    "deletable": true,
    "editable": true
   },
   "outputs": [],
   "source": [
    "removed_items = set()\n",
    "for key in range(max_item):\n",
    "    if key not in visual_data:\n",
    "        removed_items.add(key)"
   ]
  },
  {
   "cell_type": "code",
   "execution_count": 4,
   "metadata": {
    "collapsed": false,
    "deletable": true,
    "editable": true
   },
   "outputs": [],
   "source": [
    "users_to_remove = []\n",
    "for user in data:\n",
    "    images = np.unique(data[user]).tolist()\n",
    "    images = [image for image in images if image in visual_data]\n",
    "    if not images: users_to_remove.append(user)\n",
    "    else: data[user] = images\n",
    "\n",
    "for user in users_to_remove:\n",
    "    data.pop(user)"
   ]
  },
  {
   "cell_type": "code",
   "execution_count": 5,
   "metadata": {
    "collapsed": true,
    "deletable": true,
    "editable": true
   },
   "outputs": [],
   "source": [
    "def create_validation(data):\n",
    "    valid = {}\n",
    "    for key in data:\n",
    "        rated_items = data[key]\n",
    "        if len(rated_items) > 1:\n",
    "            valid[key] = np.random.choice(rated_items)\n",
    "        else:\n",
    "            valid[key] = None\n",
    "    return valid\n",
    "        "
   ]
  },
  {
   "cell_type": "code",
   "execution_count": 6,
   "metadata": {
    "collapsed": true,
    "deletable": true,
    "editable": true
   },
   "outputs": [],
   "source": [
    "valid = create_validation(data)"
   ]
  },
  {
   "cell_type": "code",
   "execution_count": 7,
   "metadata": {
    "collapsed": false,
    "deletable": true,
    "editable": true
   },
   "outputs": [],
   "source": [
    "def sample_triple(data, valid, nSamples=1):\n",
    "    samples = np.zeros((nSamples, 3), dtype=int)\n",
    "    keys = list(data.keys())\n",
    "    users = np.random.choice(keys, nSamples) \n",
    "    samples[:, 0] = users\n",
    "    \n",
    "    for i, user in enumerate(tqdm(users)):\n",
    "        rated_items = data[user]\n",
    "        valid_item = valid[user]\n",
    "        unrated_item = np.random.choice(max_item)\n",
    "        while unrated_item in rated_items or unrated_item in removed_items or unrated_item == valid_item:\n",
    "            unrated_item = np.random.choice(max_item)\n",
    "            \n",
    "        rated_item = np.random.choice(rated_items)\n",
    "        while rated_item == valid_item:\n",
    "            rated_item = np.random.choice(rated_items)\n",
    "\n",
    "        samples[i, 1] = rated_item\n",
    "        samples[i, 2] = unrated_item\n",
    "            \n",
    "    return samples\n"
   ]
  },
  {
   "cell_type": "code",
   "execution_count": 8,
   "metadata": {
    "collapsed": true,
    "deletable": true,
    "editable": true
   },
   "outputs": [],
   "source": [
    "import math\n",
    "\n",
    "def sigmoid(x):\n",
    "    try:\n",
    "        if type(x) in (int, float, np.float64):\n",
    "            return 1 / (1 + math.exp(-x))\n",
    "        else:\n",
    "            if len(x) == 1:\n",
    "                x = np.squeeze(x)\n",
    "                return 1 / (1 + math.exp(-x))\n",
    "            else:\n",
    "                return 1 / (1 + np.exp(-x))\n",
    "    except OverflowError:\n",
    "        return 0"
   ]
  },
  {
   "cell_type": "code",
   "execution_count": 9,
   "metadata": {
    "collapsed": true,
    "deletable": true,
    "editable": true
   },
   "outputs": [],
   "source": [
    "#hyperparameters\n",
    "k=10\n",
    "n=10\n",
    "lr = 0.0001 #0.0001\n",
    "lam_u = .01\n",
    "lam_bias = .01\n",
    "lam_rated = .01\n",
    "lam_unrated = .01\n",
    "lam_vf = .1\n",
    "lam_E = .10\n",
    "lam_vu = .10\n",
    "\n",
    "sf = 1"
   ]
  },
  {
   "cell_type": "code",
   "execution_count": 10,
   "metadata": {
    "collapsed": true,
    "deletable": true,
    "editable": true
   },
   "outputs": [],
   "source": [
    "def create_valid_dataset(data, valid, nItems=10): #nItems is the number of items not in train/ valid \n",
    "    \n",
    "    valid_list = list(valid.items())\n",
    "    valid_users = [x[0] for x in valid_list if x[1] is not None]\n",
    "    valid_items = [x[1] for x in valid_list if x[1] is not None]\n",
    "    valid_users = np.repeat(valid_users, nItems)\n",
    "    valid_items = np.repeat(valid_items, nItems)\n",
    "    \n",
    "    samples = np.zeros((len(valid_users), 3), dtype=int)\n",
    "    samples[:, 0] = valid_users\n",
    "    samples[:, 1] = valid_items\n",
    "    \n",
    "    for i, user in enumerate(valid_users):\n",
    "        rated_items = data[user]\n",
    "        valid_item = valid[user]\n",
    "        unrated_item = np.random.choice(max_item)\n",
    "        while unrated_item in rated_items or unrated_item in removed_items or unrated_item == valid_item:\n",
    "            unrated_item = np.random.choice(max_item)\n",
    "            \n",
    "        samples[i, 2] = unrated_item\n",
    "        \n",
    "    return samples\n",
    "\n"
   ]
  },
  {
   "cell_type": "code",
   "execution_count": 11,
   "metadata": {
    "collapsed": true
   },
   "outputs": [],
   "source": [
    "import tensorflow as tf"
   ]
  },
  {
   "cell_type": "code",
   "execution_count": 12,
   "metadata": {
    "collapsed": false,
    "deletable": true,
    "editable": true
   },
   "outputs": [],
   "source": [
    "init = tf.truncated_normal_initializer(stddev = 0.1)\n",
    "\n",
    "item_biases = tf.get_variable(name=\"item_biases\", shape=max_item, initializer=init)\n",
    "latent_items = tf.get_variable(name=\"item_latent_factors\", shape=(max_item, k), initializer=init)\n",
    "latent_users = tf.get_variable(name=\"user_latent_factors\", shape=(max_user, k), initializer=init)\n",
    "visual_users = tf.get_variable(name=\"user_visual_factors\", shape=(max_user, n), initializer=init)\n",
    "E = tf.get_variable(name=\"encoding_matrix\", shape=(4096, n), initializer=init)\n",
    "visual_bias = tf.get_variable(name=\"visual_bias\", shape=(4096), initializer=init)\n",
    "\n",
    "user = tf.placeholder(tf.int32, shape = [])\n",
    "rated_item = tf.placeholder(tf.int32, shape = [])\n",
    "unrated_item = tf.placeholder(tf.int32, shape = [])\n",
    "\n"
   ]
  },
  {
   "cell_type": "code",
   "execution_count": 29,
   "metadata": {
    "collapsed": false
   },
   "outputs": [
    {
     "ename": "ValueError",
     "evalue": "Shapes must be equal rank, but are 1 and 2 for 'key_value_init_2' (op: 'InitializeTable') with input shapes: [2], [63988], [63988,4096].",
     "output_type": "error",
     "traceback": [
      "\u001b[0;31m---------------------------------------------------------------------------\u001b[0m",
      "\u001b[0;31mInvalidArgumentError\u001b[0m                      Traceback (most recent call last)",
      "\u001b[0;32m/usr/local/lib/python3.6/site-packages/tensorflow/python/framework/common_shapes.py\u001b[0m in \u001b[0;36m_call_cpp_shape_fn_impl\u001b[0;34m(op, input_tensors_needed, input_tensors_as_shapes_needed, debug_python_shape_fn, require_shape_fn)\u001b[0m\n\u001b[1;32m    669\u001b[0m           \u001b[0mnode_def_str\u001b[0m\u001b[0;34m,\u001b[0m \u001b[0minput_shapes\u001b[0m\u001b[0;34m,\u001b[0m \u001b[0minput_tensors\u001b[0m\u001b[0;34m,\u001b[0m \u001b[0minput_tensors_as_shapes\u001b[0m\u001b[0;34m,\u001b[0m\u001b[0;34m\u001b[0m\u001b[0m\n\u001b[0;32m--> 670\u001b[0;31m           status)\n\u001b[0m\u001b[1;32m    671\u001b[0m   \u001b[0;32mexcept\u001b[0m \u001b[0merrors\u001b[0m\u001b[0;34m.\u001b[0m\u001b[0mInvalidArgumentError\u001b[0m \u001b[0;32mas\u001b[0m \u001b[0merr\u001b[0m\u001b[0;34m:\u001b[0m\u001b[0;34m\u001b[0m\u001b[0m\n",
      "\u001b[0;32m/usr/local/Cellar/python3/3.6.1/Frameworks/Python.framework/Versions/3.6/lib/python3.6/contextlib.py\u001b[0m in \u001b[0;36m__exit__\u001b[0;34m(self, type, value, traceback)\u001b[0m\n\u001b[1;32m     88\u001b[0m             \u001b[0;32mtry\u001b[0m\u001b[0;34m:\u001b[0m\u001b[0;34m\u001b[0m\u001b[0m\n\u001b[0;32m---> 89\u001b[0;31m                 \u001b[0mnext\u001b[0m\u001b[0;34m(\u001b[0m\u001b[0mself\u001b[0m\u001b[0;34m.\u001b[0m\u001b[0mgen\u001b[0m\u001b[0;34m)\u001b[0m\u001b[0;34m\u001b[0m\u001b[0m\n\u001b[0m\u001b[1;32m     90\u001b[0m             \u001b[0;32mexcept\u001b[0m \u001b[0mStopIteration\u001b[0m\u001b[0;34m:\u001b[0m\u001b[0;34m\u001b[0m\u001b[0m\n",
      "\u001b[0;32m/usr/local/lib/python3.6/site-packages/tensorflow/python/framework/errors_impl.py\u001b[0m in \u001b[0;36mraise_exception_on_not_ok_status\u001b[0;34m()\u001b[0m\n\u001b[1;32m    468\u001b[0m           \u001b[0mcompat\u001b[0m\u001b[0;34m.\u001b[0m\u001b[0mas_text\u001b[0m\u001b[0;34m(\u001b[0m\u001b[0mpywrap_tensorflow\u001b[0m\u001b[0;34m.\u001b[0m\u001b[0mTF_Message\u001b[0m\u001b[0;34m(\u001b[0m\u001b[0mstatus\u001b[0m\u001b[0;34m)\u001b[0m\u001b[0;34m)\u001b[0m\u001b[0;34m,\u001b[0m\u001b[0;34m\u001b[0m\u001b[0m\n\u001b[0;32m--> 469\u001b[0;31m           pywrap_tensorflow.TF_GetCode(status))\n\u001b[0m\u001b[1;32m    470\u001b[0m   \u001b[0;32mfinally\u001b[0m\u001b[0;34m:\u001b[0m\u001b[0;34m\u001b[0m\u001b[0m\n",
      "\u001b[0;31mInvalidArgumentError\u001b[0m: Shapes must be equal rank, but are 1 and 2 for 'key_value_init_2' (op: 'InitializeTable') with input shapes: [2], [63988], [63988,4096].",
      "\nDuring handling of the above exception, another exception occurred:\n",
      "\u001b[0;31mValueError\u001b[0m                                Traceback (most recent call last)",
      "\u001b[0;32m<ipython-input-29-1fba678aafc8>\u001b[0m in \u001b[0;36m<module>\u001b[0;34m()\u001b[0m\n\u001b[1;32m      3\u001b[0m \u001b[0;34m\u001b[0m\u001b[0m\n\u001b[1;32m      4\u001b[0m \u001b[0;34m\u001b[0m\u001b[0m\n\u001b[0;32m----> 5\u001b[0;31m \u001b[0mhashtable\u001b[0m \u001b[0;34m=\u001b[0m \u001b[0mtf\u001b[0m\u001b[0;34m.\u001b[0m\u001b[0mcontrib\u001b[0m\u001b[0;34m.\u001b[0m\u001b[0mlookup\u001b[0m\u001b[0;34m.\u001b[0m\u001b[0mHashTable\u001b[0m\u001b[0;34m(\u001b[0m\u001b[0minitializer\u001b[0m\u001b[0;34m=\u001b[0m\u001b[0minit\u001b[0m\u001b[0;34m,\u001b[0m \u001b[0mdefault_value\u001b[0m\u001b[0;34m=\u001b[0m\u001b[0;34m-\u001b[0m\u001b[0;36m1\u001b[0m\u001b[0;34m)\u001b[0m\u001b[0;34m\u001b[0m\u001b[0m\n\u001b[0m",
      "\u001b[0;32m/usr/local/lib/python3.6/site-packages/tensorflow/contrib/lookup/lookup_ops.py\u001b[0m in \u001b[0;36m__init__\u001b[0;34m(self, initializer, default_value, shared_name, name)\u001b[0m\n\u001b[1;32m    234\u001b[0m       \u001b[0;31m# pylint: enable=protected-access\u001b[0m\u001b[0;34m\u001b[0m\u001b[0;34m\u001b[0m\u001b[0m\n\u001b[1;32m    235\u001b[0m \u001b[0;34m\u001b[0m\u001b[0m\n\u001b[0;32m--> 236\u001b[0;31m       \u001b[0msuper\u001b[0m\u001b[0;34m(\u001b[0m\u001b[0mHashTable\u001b[0m\u001b[0;34m,\u001b[0m \u001b[0mself\u001b[0m\u001b[0;34m)\u001b[0m\u001b[0;34m.\u001b[0m\u001b[0m__init__\u001b[0m\u001b[0;34m(\u001b[0m\u001b[0mtable_ref\u001b[0m\u001b[0;34m,\u001b[0m \u001b[0mdefault_value\u001b[0m\u001b[0;34m,\u001b[0m \u001b[0minitializer\u001b[0m\u001b[0;34m)\u001b[0m\u001b[0;34m\u001b[0m\u001b[0m\n\u001b[0m\u001b[1;32m    237\u001b[0m \u001b[0;34m\u001b[0m\u001b[0m\n\u001b[1;32m    238\u001b[0m \u001b[0;34m\u001b[0m\u001b[0m\n",
      "\u001b[0;32m/usr/local/lib/python3.6/site-packages/tensorflow/contrib/lookup/lookup_ops.py\u001b[0m in \u001b[0;36m__init__\u001b[0;34m(self, table_ref, default_value, initializer)\u001b[0m\n\u001b[1;32m    123\u001b[0m                                                 dtype=self._value_dtype)\n\u001b[1;32m    124\u001b[0m     \u001b[0mself\u001b[0m\u001b[0;34m.\u001b[0m\u001b[0m_default_value\u001b[0m\u001b[0;34m.\u001b[0m\u001b[0mget_shape\u001b[0m\u001b[0;34m(\u001b[0m\u001b[0;34m)\u001b[0m\u001b[0;34m.\u001b[0m\u001b[0mmerge_with\u001b[0m\u001b[0;34m(\u001b[0m\u001b[0mtensor_shape\u001b[0m\u001b[0;34m.\u001b[0m\u001b[0mscalar\u001b[0m\u001b[0;34m(\u001b[0m\u001b[0;34m)\u001b[0m\u001b[0;34m)\u001b[0m\u001b[0;34m\u001b[0m\u001b[0m\n\u001b[0;32m--> 125\u001b[0;31m     \u001b[0mself\u001b[0m\u001b[0;34m.\u001b[0m\u001b[0m_init\u001b[0m \u001b[0;34m=\u001b[0m \u001b[0minitializer\u001b[0m\u001b[0;34m.\u001b[0m\u001b[0minitialize\u001b[0m\u001b[0;34m(\u001b[0m\u001b[0mself\u001b[0m\u001b[0;34m)\u001b[0m\u001b[0;34m\u001b[0m\u001b[0m\n\u001b[0m\u001b[1;32m    126\u001b[0m \u001b[0;34m\u001b[0m\u001b[0m\n\u001b[1;32m    127\u001b[0m   \u001b[0;34m@\u001b[0m\u001b[0mproperty\u001b[0m\u001b[0;34m\u001b[0m\u001b[0m\n",
      "\u001b[0;32m/usr/local/lib/python3.6/site-packages/tensorflow/contrib/lookup/lookup_ops.py\u001b[0m in \u001b[0;36minitialize\u001b[0;34m(self, table)\u001b[0m\n\u001b[1;32m    307\u001b[0m                                                     \u001b[0mself\u001b[0m\u001b[0;34m.\u001b[0m\u001b[0m_keys\u001b[0m\u001b[0;34m,\u001b[0m\u001b[0;34m\u001b[0m\u001b[0m\n\u001b[1;32m    308\u001b[0m                                                     \u001b[0mself\u001b[0m\u001b[0;34m.\u001b[0m\u001b[0m_values\u001b[0m\u001b[0;34m,\u001b[0m\u001b[0;34m\u001b[0m\u001b[0m\n\u001b[0;32m--> 309\u001b[0;31m                                                     name=scope)\n\u001b[0m\u001b[1;32m    310\u001b[0m       \u001b[0;31m# pylint: enable=protected-access\u001b[0m\u001b[0;34m\u001b[0m\u001b[0;34m\u001b[0m\u001b[0m\n\u001b[1;32m    311\u001b[0m     \u001b[0mops\u001b[0m\u001b[0;34m.\u001b[0m\u001b[0madd_to_collection\u001b[0m\u001b[0;34m(\u001b[0m\u001b[0mops\u001b[0m\u001b[0;34m.\u001b[0m\u001b[0mGraphKeys\u001b[0m\u001b[0;34m.\u001b[0m\u001b[0mTABLE_INITIALIZERS\u001b[0m\u001b[0;34m,\u001b[0m \u001b[0minit_op\u001b[0m\u001b[0;34m)\u001b[0m\u001b[0;34m\u001b[0m\u001b[0m\n",
      "\u001b[0;32m/usr/local/lib/python3.6/site-packages/tensorflow/python/ops/gen_data_flow_ops.py\u001b[0m in \u001b[0;36m_initialize_table\u001b[0;34m(table_handle, keys, values, name)\u001b[0m\n\u001b[1;32m    669\u001b[0m   \"\"\"\n\u001b[1;32m    670\u001b[0m   result = _op_def_lib.apply_op(\"InitializeTable\", table_handle=table_handle,\n\u001b[0;32m--> 671\u001b[0;31m                                 keys=keys, values=values, name=name)\n\u001b[0m\u001b[1;32m    672\u001b[0m   \u001b[0;32mreturn\u001b[0m \u001b[0mresult\u001b[0m\u001b[0;34m\u001b[0m\u001b[0m\n\u001b[1;32m    673\u001b[0m \u001b[0;34m\u001b[0m\u001b[0m\n",
      "\u001b[0;32m/usr/local/lib/python3.6/site-packages/tensorflow/python/framework/op_def_library.py\u001b[0m in \u001b[0;36mapply_op\u001b[0;34m(self, op_type_name, name, **keywords)\u001b[0m\n\u001b[1;32m    761\u001b[0m         op = g.create_op(op_type_name, inputs, output_types, name=scope,\n\u001b[1;32m    762\u001b[0m                          \u001b[0minput_types\u001b[0m\u001b[0;34m=\u001b[0m\u001b[0minput_types\u001b[0m\u001b[0;34m,\u001b[0m \u001b[0mattrs\u001b[0m\u001b[0;34m=\u001b[0m\u001b[0mattr_protos\u001b[0m\u001b[0;34m,\u001b[0m\u001b[0;34m\u001b[0m\u001b[0m\n\u001b[0;32m--> 763\u001b[0;31m                          op_def=op_def)\n\u001b[0m\u001b[1;32m    764\u001b[0m         \u001b[0;32mif\u001b[0m \u001b[0moutput_structure\u001b[0m\u001b[0;34m:\u001b[0m\u001b[0;34m\u001b[0m\u001b[0m\n\u001b[1;32m    765\u001b[0m           \u001b[0moutputs\u001b[0m \u001b[0;34m=\u001b[0m \u001b[0mop\u001b[0m\u001b[0;34m.\u001b[0m\u001b[0moutputs\u001b[0m\u001b[0;34m\u001b[0m\u001b[0m\n",
      "\u001b[0;32m/usr/local/lib/python3.6/site-packages/tensorflow/python/framework/ops.py\u001b[0m in \u001b[0;36mcreate_op\u001b[0;34m(self, op_type, inputs, dtypes, input_types, name, attrs, op_def, compute_shapes, compute_device)\u001b[0m\n\u001b[1;32m   2395\u001b[0m                     original_op=self._default_original_op, op_def=op_def)\n\u001b[1;32m   2396\u001b[0m     \u001b[0;32mif\u001b[0m \u001b[0mcompute_shapes\u001b[0m\u001b[0;34m:\u001b[0m\u001b[0;34m\u001b[0m\u001b[0m\n\u001b[0;32m-> 2397\u001b[0;31m       \u001b[0mset_shapes_for_outputs\u001b[0m\u001b[0;34m(\u001b[0m\u001b[0mret\u001b[0m\u001b[0;34m)\u001b[0m\u001b[0;34m\u001b[0m\u001b[0m\n\u001b[0m\u001b[1;32m   2398\u001b[0m     \u001b[0mself\u001b[0m\u001b[0;34m.\u001b[0m\u001b[0m_add_op\u001b[0m\u001b[0;34m(\u001b[0m\u001b[0mret\u001b[0m\u001b[0;34m)\u001b[0m\u001b[0;34m\u001b[0m\u001b[0m\n\u001b[1;32m   2399\u001b[0m     \u001b[0mself\u001b[0m\u001b[0;34m.\u001b[0m\u001b[0m_record_op_seen_by_control_dependencies\u001b[0m\u001b[0;34m(\u001b[0m\u001b[0mret\u001b[0m\u001b[0;34m)\u001b[0m\u001b[0;34m\u001b[0m\u001b[0m\n",
      "\u001b[0;32m/usr/local/lib/python3.6/site-packages/tensorflow/python/framework/ops.py\u001b[0m in \u001b[0;36mset_shapes_for_outputs\u001b[0;34m(op)\u001b[0m\n\u001b[1;32m   1755\u001b[0m       \u001b[0mshape_func\u001b[0m \u001b[0;34m=\u001b[0m \u001b[0m_call_cpp_shape_fn_and_require_op\u001b[0m\u001b[0;34m\u001b[0m\u001b[0m\n\u001b[1;32m   1756\u001b[0m \u001b[0;34m\u001b[0m\u001b[0m\n\u001b[0;32m-> 1757\u001b[0;31m   \u001b[0mshapes\u001b[0m \u001b[0;34m=\u001b[0m \u001b[0mshape_func\u001b[0m\u001b[0;34m(\u001b[0m\u001b[0mop\u001b[0m\u001b[0;34m)\u001b[0m\u001b[0;34m\u001b[0m\u001b[0m\n\u001b[0m\u001b[1;32m   1758\u001b[0m   \u001b[0;32mif\u001b[0m \u001b[0mshapes\u001b[0m \u001b[0;32mis\u001b[0m \u001b[0;32mNone\u001b[0m\u001b[0;34m:\u001b[0m\u001b[0;34m\u001b[0m\u001b[0m\n\u001b[1;32m   1759\u001b[0m     raise RuntimeError(\n",
      "\u001b[0;32m/usr/local/lib/python3.6/site-packages/tensorflow/python/framework/ops.py\u001b[0m in \u001b[0;36mcall_with_requiring\u001b[0;34m(op)\u001b[0m\n\u001b[1;32m   1705\u001b[0m \u001b[0;34m\u001b[0m\u001b[0m\n\u001b[1;32m   1706\u001b[0m   \u001b[0;32mdef\u001b[0m \u001b[0mcall_with_requiring\u001b[0m\u001b[0;34m(\u001b[0m\u001b[0mop\u001b[0m\u001b[0;34m)\u001b[0m\u001b[0;34m:\u001b[0m\u001b[0;34m\u001b[0m\u001b[0m\n\u001b[0;32m-> 1707\u001b[0;31m     \u001b[0;32mreturn\u001b[0m \u001b[0mcall_cpp_shape_fn\u001b[0m\u001b[0;34m(\u001b[0m\u001b[0mop\u001b[0m\u001b[0;34m,\u001b[0m \u001b[0mrequire_shape_fn\u001b[0m\u001b[0;34m=\u001b[0m\u001b[0;32mTrue\u001b[0m\u001b[0;34m)\u001b[0m\u001b[0;34m\u001b[0m\u001b[0m\n\u001b[0m\u001b[1;32m   1708\u001b[0m \u001b[0;34m\u001b[0m\u001b[0m\n\u001b[1;32m   1709\u001b[0m   \u001b[0m_call_cpp_shape_fn_and_require_op\u001b[0m \u001b[0;34m=\u001b[0m \u001b[0mcall_with_requiring\u001b[0m\u001b[0;34m\u001b[0m\u001b[0m\n",
      "\u001b[0;32m/usr/local/lib/python3.6/site-packages/tensorflow/python/framework/common_shapes.py\u001b[0m in \u001b[0;36mcall_cpp_shape_fn\u001b[0;34m(op, input_tensors_needed, input_tensors_as_shapes_needed, debug_python_shape_fn, require_shape_fn)\u001b[0m\n\u001b[1;32m    608\u001b[0m     res = _call_cpp_shape_fn_impl(op, input_tensors_needed,\n\u001b[1;32m    609\u001b[0m                                   \u001b[0minput_tensors_as_shapes_needed\u001b[0m\u001b[0;34m,\u001b[0m\u001b[0;34m\u001b[0m\u001b[0m\n\u001b[0;32m--> 610\u001b[0;31m                                   debug_python_shape_fn, require_shape_fn)\n\u001b[0m\u001b[1;32m    611\u001b[0m     \u001b[0;32mif\u001b[0m \u001b[0;32mnot\u001b[0m \u001b[0misinstance\u001b[0m\u001b[0;34m(\u001b[0m\u001b[0mres\u001b[0m\u001b[0;34m,\u001b[0m \u001b[0mdict\u001b[0m\u001b[0;34m)\u001b[0m\u001b[0;34m:\u001b[0m\u001b[0;34m\u001b[0m\u001b[0m\n\u001b[1;32m    612\u001b[0m       \u001b[0;31m# Handles the case where _call_cpp_shape_fn_impl calls unknown_shape(op).\u001b[0m\u001b[0;34m\u001b[0m\u001b[0;34m\u001b[0m\u001b[0m\n",
      "\u001b[0;32m/usr/local/lib/python3.6/site-packages/tensorflow/python/framework/common_shapes.py\u001b[0m in \u001b[0;36m_call_cpp_shape_fn_impl\u001b[0;34m(op, input_tensors_needed, input_tensors_as_shapes_needed, debug_python_shape_fn, require_shape_fn)\u001b[0m\n\u001b[1;32m    673\u001b[0m       \u001b[0mmissing_shape_fn\u001b[0m \u001b[0;34m=\u001b[0m \u001b[0;32mTrue\u001b[0m\u001b[0;34m\u001b[0m\u001b[0m\n\u001b[1;32m    674\u001b[0m     \u001b[0;32melse\u001b[0m\u001b[0;34m:\u001b[0m\u001b[0;34m\u001b[0m\u001b[0m\n\u001b[0;32m--> 675\u001b[0;31m       \u001b[0;32mraise\u001b[0m \u001b[0mValueError\u001b[0m\u001b[0;34m(\u001b[0m\u001b[0merr\u001b[0m\u001b[0;34m.\u001b[0m\u001b[0mmessage\u001b[0m\u001b[0;34m)\u001b[0m\u001b[0;34m\u001b[0m\u001b[0m\n\u001b[0m\u001b[1;32m    676\u001b[0m \u001b[0;34m\u001b[0m\u001b[0m\n\u001b[1;32m    677\u001b[0m   \u001b[0;32mif\u001b[0m \u001b[0mmissing_shape_fn\u001b[0m\u001b[0;34m:\u001b[0m\u001b[0;34m\u001b[0m\u001b[0m\n",
      "\u001b[0;31mValueError\u001b[0m: Shapes must be equal rank, but are 1 and 2 for 'key_value_init_2' (op: 'InitializeTable') with input shapes: [2], [63988], [63988,4096]."
     ]
    }
   ],
   "source": [
    "init= tf.contrib.lookup.KeyValueTensorInitializer(keys=np.array([key for key in visual_data]), \n",
    "                                                  values = np.array([visual_data[key] for key in visual_data]))\n",
    "\n",
    "\n",
    "hashtable = tf.contrib.lookup.HashTable(initializer=init, default_value=-1)"
   ]
  },
  {
   "cell_type": "code",
   "execution_count": 27,
   "metadata": {
    "collapsed": true
   },
   "outputs": [],
   "source": [
    "values = np.array([visual_data[key] for key in visual_data])"
   ]
  },
  {
   "cell_type": "code",
   "execution_count": null,
   "metadata": {
    "collapsed": true
   },
   "outputs": [],
   "source": [
    "def wrapper(item_biases, latent_items, latent_users, visual_users, E, visual_bias,\n",
    "            user, rated_item, unrated_item):"
   ]
  },
  {
   "cell_type": "code",
   "execution_count": 20,
   "metadata": {
    "collapsed": false,
    "deletable": true,
    "editable": true
   },
   "outputs": [],
   "source": [
    "def BR_opt(item_biases, latent_items, latent_users, visual_users, E, visual_bias,\n",
    "            user, rated_item, unrated_item):\n",
    "    \n",
    "    \n",
    "\n",
    "    bias_difference = item_biases[rated_item] - item_biases[unrated_item]\n",
    "    latent_rated_item = latent_items[rated_item]; latent_unrated_item = latent_items[unrated_item]\n",
    "    latent_user = latent_users[user]\n",
    "    \n",
    "    latent_difference = tf.reduce_sum(tf.multiply(latent_rated_item - latent_unrated_item, latent_user))\n",
    "        \n",
    "    rated_vf = visual_data[rated_item]; unrated_vf = visual_data[unrated_item]\n",
    "    vf_difference = rated_vf - unrated_vf\n",
    "    \n",
    "    vf_encoded = tf.matmul(E, np.reshape(vf_difference, (-1,1)), transpose_a=True)\n",
    "    visual_difference = tf.reduce_sum(tf.multiply(vf_encoded, visual_users[user]))\n",
    "    visual_bias_difference = tf.reduce_sum(tf.multiply(vf_difference, visual_bias))\n",
    "    \n",
    "    return (bias_difference + latent_difference + sf*visual_difference + sf*visual_bias_difference)"
   ]
  },
  {
   "cell_type": "code",
   "execution_count": 21,
   "metadata": {
    "collapsed": true
   },
   "outputs": [],
   "source": [
    "optimizer = tf.train.GradientDescentOptimizer(0.0007)"
   ]
  },
  {
   "cell_type": "code",
   "execution_count": 22,
   "metadata": {
    "collapsed": false
   },
   "outputs": [
    {
     "ename": "ValueError",
     "evalue": "Cannot evaluate tensor using `eval()`: No default session is registered. Use `with sess.as_default()` or pass an explicit session to `eval(session=sess)`",
     "output_type": "error",
     "traceback": [
      "\u001b[0;31m---------------------------------------------------------------------------\u001b[0m",
      "\u001b[0;31mValueError\u001b[0m                                Traceback (most recent call last)",
      "\u001b[0;32m<ipython-input-22-2e1925e1e40b>\u001b[0m in \u001b[0;36m<module>\u001b[0;34m()\u001b[0m\n\u001b[1;32m      1\u001b[0m obj = BR_opt(item_biases, latent_items, latent_users, visual_users, E, visual_bias,\n\u001b[0;32m----> 2\u001b[0;31m             user, rated_item, unrated_item)\n\u001b[0m",
      "\u001b[0;32m<ipython-input-20-fe7dfdbb7480>\u001b[0m in \u001b[0;36mBR_opt\u001b[0;34m(item_biases, latent_items, latent_users, visual_users, E, visual_bias, user, rated_item, unrated_item)\u001b[0m\n\u001b[1;32m     10\u001b[0m     \u001b[0mlatent_difference\u001b[0m \u001b[0;34m=\u001b[0m \u001b[0mtf\u001b[0m\u001b[0;34m.\u001b[0m\u001b[0mreduce_sum\u001b[0m\u001b[0;34m(\u001b[0m\u001b[0mtf\u001b[0m\u001b[0;34m.\u001b[0m\u001b[0mmultiply\u001b[0m\u001b[0;34m(\u001b[0m\u001b[0mlatent_rated_item\u001b[0m \u001b[0;34m-\u001b[0m \u001b[0mlatent_unrated_item\u001b[0m\u001b[0;34m,\u001b[0m \u001b[0mlatent_user\u001b[0m\u001b[0;34m)\u001b[0m\u001b[0;34m)\u001b[0m\u001b[0;34m\u001b[0m\u001b[0m\n\u001b[1;32m     11\u001b[0m \u001b[0;34m\u001b[0m\u001b[0m\n\u001b[0;32m---> 12\u001b[0;31m     \u001b[0mrated_vf\u001b[0m \u001b[0;34m=\u001b[0m \u001b[0mvisual_data\u001b[0m\u001b[0;34m[\u001b[0m\u001b[0mrated_item\u001b[0m\u001b[0;34m.\u001b[0m\u001b[0meval\u001b[0m\u001b[0;34m(\u001b[0m\u001b[0;34m)\u001b[0m\u001b[0;34m]\u001b[0m\u001b[0;34m;\u001b[0m \u001b[0munrated_vf\u001b[0m \u001b[0;34m=\u001b[0m \u001b[0mvisual_data\u001b[0m\u001b[0;34m[\u001b[0m\u001b[0munrated_item\u001b[0m\u001b[0;34m.\u001b[0m\u001b[0meval\u001b[0m\u001b[0;34m(\u001b[0m\u001b[0;34m)\u001b[0m\u001b[0;34m]\u001b[0m\u001b[0;34m\u001b[0m\u001b[0m\n\u001b[0m\u001b[1;32m     13\u001b[0m     \u001b[0mvf_difference\u001b[0m \u001b[0;34m=\u001b[0m \u001b[0mrated_vf\u001b[0m \u001b[0;34m-\u001b[0m \u001b[0munrated_vf\u001b[0m\u001b[0;34m\u001b[0m\u001b[0m\n\u001b[1;32m     14\u001b[0m \u001b[0;34m\u001b[0m\u001b[0m\n",
      "\u001b[0;32m/usr/local/lib/python3.6/site-packages/tensorflow/python/framework/ops.py\u001b[0m in \u001b[0;36meval\u001b[0;34m(self, feed_dict, session)\u001b[0m\n\u001b[1;32m    579\u001b[0m \u001b[0;34m\u001b[0m\u001b[0m\n\u001b[1;32m    580\u001b[0m     \"\"\"\n\u001b[0;32m--> 581\u001b[0;31m     \u001b[0;32mreturn\u001b[0m \u001b[0m_eval_using_default_session\u001b[0m\u001b[0;34m(\u001b[0m\u001b[0mself\u001b[0m\u001b[0;34m,\u001b[0m \u001b[0mfeed_dict\u001b[0m\u001b[0;34m,\u001b[0m \u001b[0mself\u001b[0m\u001b[0;34m.\u001b[0m\u001b[0mgraph\u001b[0m\u001b[0;34m,\u001b[0m \u001b[0msession\u001b[0m\u001b[0;34m)\u001b[0m\u001b[0;34m\u001b[0m\u001b[0m\n\u001b[0m\u001b[1;32m    582\u001b[0m \u001b[0;34m\u001b[0m\u001b[0m\n\u001b[1;32m    583\u001b[0m \u001b[0;34m\u001b[0m\u001b[0m\n",
      "\u001b[0;32m/usr/local/lib/python3.6/site-packages/tensorflow/python/framework/ops.py\u001b[0m in \u001b[0;36m_eval_using_default_session\u001b[0;34m(tensors, feed_dict, graph, session)\u001b[0m\n\u001b[1;32m   3781\u001b[0m     \u001b[0msession\u001b[0m \u001b[0;34m=\u001b[0m \u001b[0mget_default_session\u001b[0m\u001b[0;34m(\u001b[0m\u001b[0;34m)\u001b[0m\u001b[0;34m\u001b[0m\u001b[0m\n\u001b[1;32m   3782\u001b[0m     \u001b[0;32mif\u001b[0m \u001b[0msession\u001b[0m \u001b[0;32mis\u001b[0m \u001b[0;32mNone\u001b[0m\u001b[0;34m:\u001b[0m\u001b[0;34m\u001b[0m\u001b[0m\n\u001b[0;32m-> 3783\u001b[0;31m       raise ValueError(\"Cannot evaluate tensor using `eval()`: No default \"\n\u001b[0m\u001b[1;32m   3784\u001b[0m                        \u001b[0;34m\"session is registered. Use `with \"\u001b[0m\u001b[0;34m\u001b[0m\u001b[0m\n\u001b[1;32m   3785\u001b[0m                        \u001b[0;34m\"sess.as_default()` or pass an explicit session to \"\u001b[0m\u001b[0;34m\u001b[0m\u001b[0m\n",
      "\u001b[0;31mValueError\u001b[0m: Cannot evaluate tensor using `eval()`: No default session is registered. Use `with sess.as_default()` or pass an explicit session to `eval(session=sess)`"
     ]
    }
   ],
   "source": [
    "obj = BR_opt(item_biases, latent_items, latent_users, visual_users, E, visual_bias,\n",
    "            user, rated_item, unrated_item)\n"
   ]
  },
  {
   "cell_type": "code",
   "execution_count": null,
   "metadata": {
    "collapsed": false,
    "deletable": true,
    "editable": true
   },
   "outputs": [],
   "source": [
    "def AUC(data, valid, item_biases, latent_items, latent_users, visual_users, E, visual_bias):\n",
    "\n",
    "    samples = create_valid_dataset(data, valid, 5)\n",
    "\n",
    "    auc = 0.0\n",
    "    for user, rated_item, unrated_item in tqdm(samples):\n",
    "\n",
    "        # Extract out the relevant variables\n",
    "        rated_item_bias = item_biases[rated_item]\n",
    "        unrated_item_bias = item_biases[unrated_item]\n",
    "        latent_user = latent_users[user]\n",
    "        latent_rated_item = latent_items[rated_item]\n",
    "        latent_unrated_item = latent_items[unrated_item]\n",
    "\n",
    "        visual_user = visual_users[user]\n",
    "        rated_vf = visual_data[rated_item]\n",
    "        unrated_vf = visual_data[unrated_item]\n",
    "        vf_difference = rated_vf-unrated_vf\n",
    "        # Determine the output, i.e. x_uij \n",
    "        br_opt = BR_opt(rated_item_bias, unrated_item_bias, latent_user, latent_rated_item, latent_unrated_item,\n",
    "                        E, vf_difference, visual_user, visual_bias)\n",
    "\n",
    "        auc += (br_opt > 0)\n",
    "    return auc/len(samples)"
   ]
  },
  {
   "cell_type": "code",
   "execution_count": null,
   "metadata": {
    "collapsed": true,
    "deletable": true,
    "editable": true
   },
   "outputs": [],
   "source": [
    "aucs = []"
   ]
  },
  {
   "cell_type": "code",
   "execution_count": null,
   "metadata": {
    "collapsed": false,
    "deletable": true,
    "editable": true
   },
   "outputs": [],
   "source": [
    "samples = sample_triple(data, valid, 2500)\n",
    "count = 0\n",
    "\n",
    "for user, rated_item, unrated_item in tqdm(samples):\n",
    "\n",
    "    # Extract out the relevant variables\n",
    "    rated_item_bias = item_biases[rated_item]\n",
    "    unrated_item_bias = item_biases[unrated_item]\n",
    "    latent_user = latent_users[user]\n",
    "    latent_rated_item = latent_items[rated_item]\n",
    "    latent_unrated_item = latent_items[unrated_item]\n",
    "\n",
    "    visual_user = visual_users[user]\n",
    "    rated_vf = visual_data[rated_item]\n",
    "    unrated_vf = visual_data[unrated_item]\n",
    "    vf_difference = rated_vf-unrated_vf\n",
    "    # Determine the output, i.e. x_uij \n",
    "    br_opt = BR_opt(rated_item_bias, unrated_item_bias, latent_user, latent_rated_item, latent_unrated_item,\n",
    "                    E, vf_difference, visual_user, visual_bias)\n",
    "\n",
    "    output = sigmoid(-br_opt)\n",
    "\n",
    "    # Perform gradient updates\n",
    "    \n",
    "    item_biases[rated_item] = (1-lr*lam_bias) * rated_item_bias + lr * output\n",
    "    item_biases[unrated_item] = (1-lr*lam_bias) * unrated_item_bias - lr * output\n",
    "\n",
    "    latent_items[rated_item] = (1-lr*lam_rated) * latent_rated_item + lr * output * latent_user \n",
    "    latent_items[unrated_item] = (1-lr*lam_unrated) * latent_unrated_item - lr * output * latent_user \n",
    "\n",
    "    latent_users[user] = (1-lr*lam_unrated) * latent_user \\\n",
    "                        + lr * output * (latent_rated_item-latent_unrated_item) \n",
    "\n",
    "        \n",
    "    E = (1-lr*lam_E) * E + sf*lr* output * (np.dot((vf_difference)[:,None],visual_user[None,:])) \n",
    "\n",
    "    visual_users[user] = (1-lr*lam_vu) * visual_user + sf*lr * output * np.dot(np.transpose(E), vf_difference) \n",
    "    \n",
    "    visual_bias = (1-lr*lam_vf)*visual_bias + sf*lr * output * (vf_difference)\n",
    "\n",
    "\n",
    "\n",
    "    count += 1\n",
    "    if count % 250000 is 0: pass\n",
    "        #aucs.append(AUC(data, valid, item_biases, latent_items, latent_users, visual_users, E, visual_bias))\n"
   ]
  },
  {
   "cell_type": "code",
   "execution_count": null,
   "metadata": {
    "collapsed": true,
    "deletable": true,
    "editable": true
   },
   "outputs": [],
   "source": [
    "import matplotlib.pyplot as plt\n",
    "%matplotlib inline"
   ]
  },
  {
   "cell_type": "code",
   "execution_count": null,
   "metadata": {
    "collapsed": false,
    "deletable": true,
    "editable": true
   },
   "outputs": [],
   "source": [
    "plt.plot(np.median(np.array(vu_grad), axis=1))\n",
    "plt.plot(np.median(np.array(lu_grad), axis=1))\n",
    "plt.plot(ib_grad[0:100])\n",
    "plt.plot(np.median(np.array(vb_grad), axis=1))\n",
    "plt.plot(np.median(np.array(E_grad), axis=(1,2)))\n",
    "plt.plot(np.median(np.array(li_grad), axis=1))"
   ]
  },
  {
   "cell_type": "code",
   "execution_count": null,
   "metadata": {
    "collapsed": false,
    "deletable": true,
    "editable": true
   },
   "outputs": [],
   "source": [
    "np.max(E)"
   ]
  },
  {
   "cell_type": "code",
   "execution_count": null,
   "metadata": {
    "collapsed": false,
    "deletable": true,
    "editable": true
   },
   "outputs": [],
   "source": [
    "plt.plot(ib_grad)\n",
    "plt.plot(np.transpose(np.array(vb_grad))[0])"
   ]
  },
  {
   "cell_type": "code",
   "execution_count": null,
   "metadata": {
    "collapsed": false,
    "deletable": true,
    "editable": true
   },
   "outputs": [],
   "source": [
    "plt.plot(np.array(range(len(aucs)+1))*250000, [0.5]+aucs)"
   ]
  },
  {
   "cell_type": "code",
   "execution_count": null,
   "metadata": {
    "collapsed": false,
    "deletable": true,
    "editable": true
   },
   "outputs": [],
   "source": [
    "AUC(data, valid, item_biases, latent_items, latent_users, visual_users, E, visual_bias)"
   ]
  },
  {
   "cell_type": "markdown",
   "metadata": {
    "deletable": true,
    "editable": true
   },
   "source": [
    "item_biases = np.random.normal(size=max_item)\n",
    "latent_items = np.random.normal(size=(max_item, k))\n",
    "latent_users = np.random.normal(size=(max_user, k))\n",
    "visual_users = np.random.normal(size=(max_user, n))\n",
    "E = np.random.normal(size=(4096, n))\n",
    "visual_bias = np.random.normal(size=(4096))"
   ]
  },
  {
   "cell_type": "markdown",
   "metadata": {
    "collapsed": false,
    "deletable": true,
    "editable": true
   },
   "source": [
    "AUC(data, valid, item_biases, latent_items, latent_users, visual_users, E, visual_bias)"
   ]
  }
 ],
 "metadata": {
  "kernelspec": {
   "display_name": "Python 3",
   "language": "python",
   "name": "python3"
  },
  "language_info": {
   "codemirror_mode": {
    "name": "ipython",
    "version": 3
   },
   "file_extension": ".py",
   "mimetype": "text/x-python",
   "name": "python",
   "nbconvert_exporter": "python",
   "pygments_lexer": "ipython3",
   "version": "3.6.1"
  }
 },
 "nbformat": 4,
 "nbformat_minor": 2
}
