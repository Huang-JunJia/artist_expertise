{
 "cells": [
  {
   "cell_type": "code",
   "execution_count": 2,
   "metadata": {
    "collapsed": false,
    "deletable": true,
    "editable": true
   },
   "outputs": [],
   "source": [
    "import pickle as pkl\n",
    "import numpy as np"
   ]
  },
  {
   "cell_type": "code",
   "execution_count": 3,
   "metadata": {
    "collapsed": false,
    "deletable": true,
    "editable": true
   },
   "outputs": [],
   "source": [
    "data= pkl.load(open(\"author_data.p\", \"rb\"))"
   ]
  },
  {
   "cell_type": "code",
   "execution_count": null,
   "metadata": {
    "collapsed": false,
    "deletable": true,
    "editable": true
   },
   "outputs": [],
   "source": [
    "try:\n",
    "    user_id_dict, user_count = pkl.load(open('user_id3.p', 'rb'))\n",
    "    item_id_dict, item_count = pkl.load(open('item_id3.p', 'rb'))\n",
    "    id_img_dict = pkl.load(open('id_img3.p', 'rb'))\n",
    "except FileNotFoundError:\n",
    "    user_id_dict = {}; item_id_dict = {}; id_img_dict = {}\n",
    "    user_count = 0; item_count = 0"
   ]
  },
  {
   "cell_type": "code",
   "execution_count": null,
   "metadata": {
    "collapsed": false,
    "deletable": true,
    "editable": true
   },
   "outputs": [],
   "source": [
    "try:\n",
    "    favoriter_dict = pkl.load(open('favorited_dict3.p', 'rb'))\n",
    "except FileNotFoundError:\n",
    "    favoriter_dict = {}"
   ]
  },
  {
   "cell_type": "code",
   "execution_count": null,
   "metadata": {
    "collapsed": false,
    "deletable": true,
    "editable": true
   },
   "outputs": [],
   "source": [
    "artists = list(data.keys())"
   ]
  },
  {
   "cell_type": "code",
   "execution_count": null,
   "metadata": {
    "collapsed": true,
    "deletable": true,
    "editable": true
   },
   "outputs": [],
   "source": [
    "#pkl.dump(artists, open('used_artists.p', 'wb'))"
   ]
  },
  {
   "cell_type": "code",
   "execution_count": null,
   "metadata": {
    "collapsed": false,
    "deletable": true,
    "editable": true
   },
   "outputs": [],
   "source": [
    "img_ids = []\n",
    "favorite_lists = []\n",
    "expanded_artists = []\n",
    "times = []"
   ]
  },
  {
   "cell_type": "code",
   "execution_count": null,
   "metadata": {
    "collapsed": true,
    "deletable": true,
    "editable": true
   },
   "outputs": [],
   "source": [
    "dd_dict = {}\n",
    "time_dict = {}\n",
    "cat_dict = {}"
   ]
  },
  {
   "cell_type": "code",
   "execution_count": 4,
   "metadata": {
    "collapsed": true,
    "deletable": true,
    "editable": true
   },
   "outputs": [],
   "source": [
    "categories = [data[x] for x in data]\n",
    "categories = [y for x in categories for y in x]\n",
    "all_categories = [x[4] for x in categories if x is not None]\n",
    "filtered = [x for x in all_categories if 'digital' in x or 'traditional' in x]"
   ]
  },
  {
   "cell_type": "code",
   "execution_count": 5,
   "metadata": {
    "collapsed": false,
    "deletable": true,
    "editable": true
   },
   "outputs": [],
   "source": [
    "def category_filter(string):\n",
    "    bad_strings = ['text', 'ascii', 'streetart', 'streetart']\n",
    "    for bad in bad_strings:\n",
    "        if bad in string:\n",
    "            return False   \n",
    "    return True\n",
    "\n",
    "filtered2 = [x for x in filtered if category_filter(x)]"
   ]
  },
  {
   "cell_type": "code",
   "execution_count": 11,
   "metadata": {
    "collapsed": false,
    "deletable": true,
    "editable": true
   },
   "outputs": [
    {
     "data": {
      "text/plain": [
       "array(['anthro/digital/3d', 'anthro/digital/drawings',\n",
       "       'anthro/digital/drawings/animals', 'anthro/digital/drawings/comic',\n",
       "       'anthro/digital/drawings/fantasy',\n",
       "       'anthro/digital/drawings/macabre',\n",
       "       'anthro/digital/drawings/political',\n",
       "       'anthro/digital/drawings/portraits',\n",
       "       'anthro/digital/drawings/scifi', 'anthro/digital/mixed',\n",
       "       'anthro/digital/oekaki', 'anthro/digital/other',\n",
       "       'anthro/digital/paintings', 'anthro/digital/paintings/animals',\n",
       "       'anthro/digital/paintings/fantasy',\n",
       "       'anthro/digital/paintings/macabre',\n",
       "       'anthro/digital/paintings/portraits',\n",
       "       'anthro/digital/paintings/sci-fi', 'anthro/digital/pixel',\n",
       "       'anthro/digital/tutorials', 'anthro/digital/vector',\n",
       "       'anthro/traditional/drawings',\n",
       "       'anthro/traditional/drawings/animals',\n",
       "       'anthro/traditional/drawings/fantasy',\n",
       "       'anthro/traditional/drawings/portraits',\n",
       "       'anthro/traditional/mixedmedia', 'anthro/traditional/other',\n",
       "       'anthro/traditional/paintings',\n",
       "       'anthro/traditional/paintings/animals',\n",
       "       'anthro/traditional/paintings/fantasy',\n",
       "       'anthro/traditional/sculpture', 'cartoons/digital/cartoons/3d',\n",
       "       'cartoons/digital/cartoons/drawings',\n",
       "       'cartoons/digital/cartoons/oekaki/animals',\n",
       "       'cartoons/digital/cartoons/oekaki/fanart/anime',\n",
       "       'cartoons/digital/cartoons/oekaki/fanart/cartoons',\n",
       "       'cartoons/digital/cartoons/oekaki/fanart/games',\n",
       "       'cartoons/digital/cartoons/oekaki/fanart/movies',\n",
       "       'cartoons/digital/cartoons/oekaki/fanart/other',\n",
       "       'cartoons/digital/cartoons/oekaki/fantasy',\n",
       "       'cartoons/digital/cartoons/oekaki/other',\n",
       "       'cartoons/digital/cartoons/other',\n",
       "       'cartoons/digital/cartoons/paintings',\n",
       "       'cartoons/digital/cartoons/vector',\n",
       "       'cartoons/digital/cartoons/vexel', 'cartoons/digital/comics/oekaki',\n",
       "       'cartoons/digital/comics/other', 'cartoons/digital/comics/pages',\n",
       "       'cartoons/digital/comics/strips', 'cartoons/digital/comics/vector',\n",
       "       'cartoons/traditional/cartoons/drawings',\n",
       "       'cartoons/traditional/cartoons/mixedmedia',\n",
       "       'cartoons/traditional/cartoons/other',\n",
       "       'cartoons/traditional/cartoons/paintings',\n",
       "       'cartoons/traditional/comics/mixedmedia',\n",
       "       'cartoons/traditional/comics/other',\n",
       "       'cartoons/traditional/comics/pages',\n",
       "       'cartoons/traditional/comics/strips', 'digitalart/3d/abstract',\n",
       "       'digitalart/3d/characters/cartoon',\n",
       "       'digitalart/3d/characters/creatures',\n",
       "       'digitalart/3d/characters/female',\n",
       "       'digitalart/3d/characters/machines',\n",
       "       'digitalart/3d/characters/male', 'digitalart/3d/characters/other',\n",
       "       'digitalart/3d/objects/everyday', 'digitalart/3d/objects/flowers',\n",
       "       'digitalart/3d/objects/other', 'digitalart/3d/objects/technology',\n",
       "       'digitalart/3d/objects/tools', 'digitalart/3d/objects/weapons',\n",
       "       'digitalart/3d/other', 'digitalart/3d/scenes/exteriors',\n",
       "       'digitalart/3d/scenes/fantasy', 'digitalart/3d/scenes/futuristic',\n",
       "       'digitalart/3d/scenes/interiors', 'digitalart/3d/scenes/landscapes',\n",
       "       'digitalart/3d/scenes/other', 'digitalart/3d/vehicles/other',\n",
       "       'digitalart/animation', 'digitalart/fractals/animations',\n",
       "       'digitalart/fractals/manipulations',\n",
       "       'digitalart/fractals/rawfractal', 'digitalart/mixedmed/abstract',\n",
       "       'digitalart/mixedmed/animals', 'digitalart/mixedmed/conceptual',\n",
       "       'digitalart/mixedmed/dark', 'digitalart/mixedmed/emotional',\n",
       "       'digitalart/mixedmed/fantasy', 'digitalart/mixedmed/landscapes',\n",
       "       'digitalart/mixedmed/macabre', 'digitalart/mixedmed/other',\n",
       "       'digitalart/mixedmed/people', 'digitalart/mixedmed/political',\n",
       "       'digitalart/mixedmed/psychedelic', 'digitalart/mixedmed/scifi',\n",
       "       'digitalart/mixedmed/surreal', 'digitalart/other/abstract',\n",
       "       'digitalart/other/animals', 'digitalart/other/conceptual',\n",
       "       'digitalart/other/emotional', 'digitalart/other/fantasy',\n",
       "       'digitalart/other/humourous', 'digitalart/other/landscapes',\n",
       "       'digitalart/other/minimal', 'digitalart/other/misc',\n",
       "       'digitalart/other/people', 'digitalart/other/political',\n",
       "       'digitalart/other/pop', 'digitalart/other/scifi',\n",
       "       'digitalart/other/surreal', 'digitalart/paintings/abstract',\n",
       "       'digitalart/paintings/animals', 'digitalart/paintings/fantasy',\n",
       "       'digitalart/paintings/graffiti/abstract',\n",
       "       'digitalart/paintings/graffiti/characters',\n",
       "       'digitalart/paintings/graffiti/stencils',\n",
       "       'digitalart/paintings/illustrations/conceptual',\n",
       "       'digitalart/paintings/illustrations/storybook',\n",
       "       'digitalart/paintings/illustrations/technical',\n",
       "       'digitalart/paintings/landscapes', 'digitalart/paintings/macabre',\n",
       "       'digitalart/paintings/other', 'digitalart/paintings/people',\n",
       "       'digitalart/paintings/people/fantasy',\n",
       "       'digitalart/paintings/people/openformat',\n",
       "       'digitalart/paintings/people/pinup',\n",
       "       'digitalart/paintings/people/portraits',\n",
       "       'digitalart/paintings/people/scifi',\n",
       "       'digitalart/paintings/political', 'digitalart/paintings/pop',\n",
       "       'digitalart/paintings/psychedelic', 'digitalart/paintings/scifi',\n",
       "       'digitalart/paintings/spaceart', 'digitalart/paintings/still',\n",
       "       'digitalart/paintings/surreal', 'digitalart/photomanip/abstract',\n",
       "       'digitalart/photomanip/animalsplants',\n",
       "       'digitalart/photomanip/conceptual', 'digitalart/photomanip/dark',\n",
       "       'digitalart/photomanip/emotional', 'digitalart/photomanip/fantasy',\n",
       "       'digitalart/photomanip/humourous',\n",
       "       'digitalart/photomanip/landscapes', 'digitalart/photomanip/other',\n",
       "       'digitalart/photomanip/people', 'digitalart/photomanip/political',\n",
       "       'digitalart/photomanip/pop', 'digitalart/photomanip/scifi',\n",
       "       'digitalart/photomanip/surreal', 'digitalart/pixelart/characters',\n",
       "       'digitalart/pixelart/characters/iso',\n",
       "       'digitalart/pixelart/characters/noniso',\n",
       "       'digitalart/pixelart/objects/iso',\n",
       "       'digitalart/pixelart/objects/noniso', 'digitalart/pixelart/other',\n",
       "       'digitalart/pixelart/other/iso', 'digitalart/pixelart/other/noniso',\n",
       "       'digitalart/pixelart/scenes/iso',\n",
       "       'digitalart/pixelart/scenes/noniso',\n",
       "       'digitalart/stereoscopy/wiggle', 'digitalart/typography/font',\n",
       "       'digitalart/typography/other', 'digitalart/vector/abstract',\n",
       "       'digitalart/vector/animals', 'digitalart/vector/conceptual',\n",
       "       'digitalart/vector/fantasy', 'digitalart/vector/fooddrink',\n",
       "       'digitalart/vector/macabre', 'digitalart/vector/objects',\n",
       "       'digitalart/vector/other', 'digitalart/vector/people',\n",
       "       'digitalart/vector/portraits', 'digitalart/vector/scenes',\n",
       "       'digitalart/vector/scifi', 'digitalart/vector/surreal',\n",
       "       'digitalart/vector/vehicles', 'digitalart/vexel/animals',\n",
       "       'digitalart/vexel/fantasy', 'digitalart/vexel/landscapes/land',\n",
       "       'digitalart/vexel/landscapes/waterscapes', 'digitalart/vexel/other',\n",
       "       'digitalart/vexel/people', 'digitalart/vexel/scifi',\n",
       "       'digitalart/vexel/silhouette', 'fanart/anthro/digital/books',\n",
       "       'fanart/anthro/digital/games', 'fanart/anthro/digital/movies',\n",
       "       'fanart/anthro/digital/other', 'fanart/anthro/traditional/books',\n",
       "       'fanart/anthro/traditional/games',\n",
       "       'fanart/anthro/traditional/movies',\n",
       "       'fanart/anthro/traditional/other', 'fanart/cartoons/digital/books',\n",
       "       'fanart/cartoons/digital/games', 'fanart/cartoons/digital/movies',\n",
       "       'fanart/cartoons/digital/other',\n",
       "       'fanart/cartoons/traditional/books',\n",
       "       'fanart/cartoons/traditional/games',\n",
       "       'fanart/cartoons/traditional/movies',\n",
       "       'fanart/cartoons/traditional/other',\n",
       "       'fanart/digital/3dfanart/games', 'fanart/digital/3dfanart/other',\n",
       "       'fanart/digital/drawings/books', 'fanart/digital/drawings/games',\n",
       "       'fanart/digital/drawings/movies', 'fanart/digital/drawings/other',\n",
       "       'fanart/digital/other', 'fanart/digital/painting/books',\n",
       "       'fanart/digital/painting/games', 'fanart/digital/painting/movies',\n",
       "       'fanart/digital/painting/other', 'fanart/digital/vector/books',\n",
       "       'fanart/digital/vector/games', 'fanart/digital/vector/movies',\n",
       "       'fanart/digital/vector/other', 'fanart/digital/vexel/other',\n",
       "       'fanart/digital/vexel/tv', 'fanart/manga/digital/books',\n",
       "       'fanart/manga/digital/fancomics', 'fanart/manga/digital/games',\n",
       "       'fanart/manga/digital/movies', 'fanart/manga/digital/other',\n",
       "       'fanart/manga/traditional/books',\n",
       "       'fanart/manga/traditional/fancomics',\n",
       "       'fanart/manga/traditional/games', 'fanart/manga/traditional/movies',\n",
       "       'fanart/manga/traditional/other',\n",
       "       'fanart/traditional/drawings/books',\n",
       "       'fanart/traditional/drawings/games',\n",
       "       'fanart/traditional/drawings/movies',\n",
       "       'fanart/traditional/drawings/other',\n",
       "       'fanart/traditional/paintings/books',\n",
       "       'fanart/traditional/paintings/games',\n",
       "       'fanart/traditional/paintings/movies',\n",
       "       'fanart/traditional/paintings/other', 'manga/digital/3d',\n",
       "       'manga/digital/drawings', 'manga/digital/manga/pages',\n",
       "       'manga/digital/manga/strips', 'manga/digital/oekaki',\n",
       "       'manga/digital/paintings', 'manga/digital/vector',\n",
       "       'manga/traditional/drawings', 'manga/traditional/manga/panels',\n",
       "       'manga/traditional/manga/strips', 'manga/traditional/mixedmedia',\n",
       "       'manga/traditional/paintings', 'traditional/animations/colored',\n",
       "       'traditional/animations/penciltest', 'traditional/assemblage',\n",
       "       'traditional/bodyart/bodymods/scarbrand',\n",
       "       'traditional/bodyart/bodymods/tattoos',\n",
       "       'traditional/bodyart/cosmetic/bodypaint',\n",
       "       'traditional/bodyart/cosmetic/nailart', 'traditional/bodyart/other',\n",
       "       'traditional/collage', 'traditional/drawings/abstract',\n",
       "       'traditional/drawings/animals', 'traditional/drawings/fantasy',\n",
       "       'traditional/drawings/illustration/conceptual',\n",
       "       'traditional/drawings/illustration/storybook',\n",
       "       'traditional/drawings/illustration/technical',\n",
       "       'traditional/drawings/landscapes', 'traditional/drawings/macabre',\n",
       "       'traditional/drawings/other', 'traditional/drawings/people',\n",
       "       'traditional/drawings/pop', 'traditional/drawings/portraits',\n",
       "       'traditional/drawings/scifi', 'traditional/drawings/spaceart',\n",
       "       'traditional/drawings/still', 'traditional/drawings/surreal',\n",
       "       'traditional/drawings/technical', 'traditional/mixedmedia',\n",
       "       'traditional/mixedmedia/abstract', 'traditional/mixedmedia/animals',\n",
       "       'traditional/mixedmedia/conceptual',\n",
       "       'traditional/mixedmedia/emotional',\n",
       "       'traditional/mixedmedia/fantasy',\n",
       "       'traditional/mixedmedia/landscapes', 'traditional/mixedmedia/other',\n",
       "       'traditional/mixedmedia/people', 'traditional/mixedmedia/scifi',\n",
       "       'traditional/other', 'traditional/paintings/abstract',\n",
       "       'traditional/paintings/animals', 'traditional/paintings/fantasy',\n",
       "       'traditional/paintings/illustration/conceptual',\n",
       "       'traditional/paintings/illustration/technical',\n",
       "       'traditional/paintings/landscapes', 'traditional/paintings/macabre',\n",
       "       'traditional/paintings/other', 'traditional/paintings/people',\n",
       "       'traditional/paintings/portraits', 'traditional/paintings/scifi',\n",
       "       'traditional/paintings/still', 'traditional/paintings/surreal',\n",
       "       'traditional/printing/etching', 'traditional/printing/lino',\n",
       "       'traditional/printing/lithograph', 'traditional/printing/woodblock',\n",
       "       'traditional/scratchboard', 'traditional/sculpture/busts',\n",
       "       'traditional/sculpture/fantasy', 'traditional/sculpture/figurative',\n",
       "       'traditional/sculpture/models', 'traditional/sculpture/other',\n",
       "       'traditional/sculpture/surreal'], \n",
       "      dtype='<U48')"
      ]
     },
     "execution_count": 11,
     "metadata": {},
     "output_type": "execute_result"
    }
   ],
   "source": [
    "np.unique(filtered2)"
   ]
  },
  {
   "cell_type": "code",
   "execution_count": null,
   "metadata": {
    "collapsed": false,
    "deletable": true,
    "editable": true
   },
   "outputs": [],
   "source": [
    "categories = [data[x] for x in data]\n",
    "categories = [y for x in categories for y in x]\n",
    "categories = np.unique([x[4] for x in categories if x is not None])"
   ]
  },
  {
   "cell_type": "code",
   "execution_count": null,
   "metadata": {
    "collapsed": false,
    "deletable": true,
    "editable": true
   },
   "outputs": [],
   "source": [
    "first_category = np.unique([x.split('/')[0] for x in categories])"
   ]
  },
  {
   "cell_type": "code",
   "execution_count": null,
   "metadata": {
    "collapsed": false,
    "deletable": true,
    "editable": true
   },
   "outputs": [],
   "source": [
    "len(categories)"
   ]
  },
  {
   "cell_type": "code",
   "execution_count": null,
   "metadata": {
    "collapsed": false,
    "deletable": true,
    "editable": true
   },
   "outputs": [],
   "source": [
    "first_category\n",
    "cat_int_dict = dict(zip(first_category, range(0,len(first_category))))"
   ]
  },
  {
   "cell_type": "code",
   "execution_count": null,
   "metadata": {
    "collapsed": false,
    "deletable": true,
    "editable": true
   },
   "outputs": [],
   "source": [
    "cat_int_dict"
   ]
  },
  {
   "cell_type": "code",
   "execution_count": null,
   "metadata": {
    "collapsed": true,
    "deletable": true,
    "editable": true
   },
   "outputs": [],
   "source": [
    "from datetime import datetime"
   ]
  },
  {
   "cell_type": "code",
   "execution_count": null,
   "metadata": {
    "collapsed": false,
    "deletable": true,
    "editable": true
   },
   "outputs": [],
   "source": [
    "datetime.fromtimestamp(1502061606)"
   ]
  },
  {
   "cell_type": "code",
   "execution_count": null,
   "metadata": {
    "collapsed": false,
    "deletable": true,
    "editable": true
   },
   "outputs": [],
   "source": [
    "datetime.fromtimestamp(1502061606-36*3600*24-16*3600-20*60-6)"
   ]
  },
  {
   "cell_type": "code",
   "execution_count": null,
   "metadata": {
    "collapsed": false,
    "deletable": true,
    "editable": true
   },
   "outputs": [],
   "source": [
    "data[artists[0]][0]"
   ]
  },
  {
   "cell_type": "code",
   "execution_count": null,
   "metadata": {
    "collapsed": false,
    "deletable": true,
    "editable": true
   },
   "outputs": [],
   "source": [
    "for artist in artists:\n",
    "    \n",
    "    artist_data = data[artist]\n",
    "    try:\n",
    "        artist_id = user_id_dict[artist]\n",
    "    except:\n",
    "        artist_id = user_count;\n",
    "        user_id_dict[artist] = artist_id; user_count += 1\n",
    "\n",
    "        \n",
    "    for entry in artist_data:\n",
    "        '''Set item id dict'''\n",
    "        if not entry: continue\n",
    "        img_id = entry[1]\n",
    "\n",
    "        if img_id in item_id_dict: # For some reason, there's a duplicate\n",
    "            continue # So just keep going \n",
    "        else:\n",
    "            img_ids.append(img_id)\n",
    "\n",
    "        item_id = item_count;\n",
    "        item_id_dict[img_id] = item_id; item_count += 1\n",
    "        \n",
    "        img_src = entry[3]\n",
    "    \n",
    "        id_img_dict[item_id] = (img_src, artist_id)\n",
    "\n",
    "        favorite_list = entry[7]\n",
    "        favorite_lists.append(favorite_list)\n",
    "        for favoriter in favorite_list:\n",
    "            favoriter = favoriter[0]\n",
    "            try:\n",
    "                fav_id = user_id_dict[favoriter]\n",
    "            except:\n",
    "                fav_id = user_count;\n",
    "                user_id_dict[favoriter] = fav_id; user_count += 1\n",
    "            finally:\n",
    "                try:\n",
    "                    favoriter_dict[fav_id].extend([item_id])\n",
    "                except KeyError:\n",
    "                    favoriter_dict[fav_id] = [item_id]\n",
    "        dd_dict[item_id] = entry[8] is not None\n",
    "        time_dict[item_id] = entry[2] < 1502061606-36*3600*24-16*3600-20*60-6 #After July 1st? \n",
    "        expanded_artists.append(artist) #need this for later\n",
    "        times.append(entry[2])\n",
    "        \n",
    "        entry_cat = entry[4]\n",
    "        entry_first_cat = entry_cat.split('/')[0]\n",
    "        cat_dict[item_id] = cat_int_dict[entry_first_cat]\n",
    "                            "
   ]
  },
  {
   "cell_type": "code",
   "execution_count": null,
   "metadata": {
    "collapsed": false,
    "deletable": true,
    "editable": true
   },
   "outputs": [],
   "source": [
    "cat_dict"
   ]
  },
  {
   "cell_type": "code",
   "execution_count": null,
   "metadata": {
    "collapsed": false,
    "deletable": true,
    "editable": true
   },
   "outputs": [],
   "source": [
    "sum(time_dict.values())/len(time_dict)"
   ]
  },
  {
   "cell_type": "code",
   "execution_count": null,
   "metadata": {
    "collapsed": true,
    "deletable": true,
    "editable": true
   },
   "outputs": [],
   "source": [
    "pkl.dump(time_dict, open('time_dict3.p', 'wb'))"
   ]
  },
  {
   "cell_type": "code",
   "execution_count": null,
   "metadata": {
    "collapsed": false,
    "deletable": true,
    "editable": true
   },
   "outputs": [],
   "source": [
    "pkl.dump(dd_dict, open('dd_dict3.p', 'wb'))"
   ]
  },
  {
   "cell_type": "code",
   "execution_count": null,
   "metadata": {
    "collapsed": true,
    "deletable": true,
    "editable": true
   },
   "outputs": [],
   "source": [
    "pkl.dump(cat_dict, open('cat_dict3.p', 'wb'))"
   ]
  },
  {
   "cell_type": "code",
   "execution_count": null,
   "metadata": {
    "collapsed": true,
    "deletable": true,
    "editable": true
   },
   "outputs": [],
   "source": [
    "converted_img_ids = [item_id_dict[item] for item in img_ids]\n",
    "num_favorites = [len(item) for item in favorite_lists]\n",
    "\n",
    "img_nfavs_dict = dict(zip(converted_img_ids, num_favorites))\n",
    "pkl.dump(img_nfavs_dict, open('img_nfavs3.p', 'wb'))"
   ]
  },
  {
   "cell_type": "code",
   "execution_count": null,
   "metadata": {
    "collapsed": false,
    "deletable": true,
    "editable": true
   },
   "outputs": [],
   "source": [
    "rev = dict(zip(list(user_id_dict.values()), list(user_id_dict.keys()))) #map user_id to user "
   ]
  },
  {
   "cell_type": "code",
   "execution_count": null,
   "metadata": {
    "collapsed": false,
    "deletable": true,
    "editable": true
   },
   "outputs": [],
   "source": [
    "pkl.dump(rev, open('rev_dict3.p', 'wb'))"
   ]
  },
  {
   "cell_type": "code",
   "execution_count": null,
   "metadata": {
    "collapsed": false,
    "deletable": true,
    "editable": true
   },
   "outputs": [],
   "source": [
    "pkl.dump(favoriter_dict, open('favorited_dict3.p', 'wb'))\n",
    "pkl.dump((user_id_dict, user_count), open('user_id3.p', 'wb'))\n",
    "pkl.dump((item_id_dict, item_count), open('item_id3.p', 'wb'))\n",
    "pkl.dump(id_img_dict,  open('id_img3.p', 'wb'))\n",
    "\n",
    "\n",
    "max_item = max(item_id_dict.values())\n",
    "max_user = max(user_id_dict.values())\n",
    "pkl.dump((max_item+1, max_user+1), open('useful_stats3.p', 'wb'))"
   ]
  },
  {
   "cell_type": "code",
   "execution_count": null,
   "metadata": {
    "collapsed": false,
    "deletable": true,
    "editable": true
   },
   "outputs": [],
   "source": [
    "g5 = sum(map(lambda x: len(x)>=5, favoriter_dict.values()))\n",
    "sum_g5 = sum(map(lambda x: len(x) if len(x)>5 else 0, favoriter_dict.values()))\n",
    "num_users = len(user_id_dict)\n",
    "num_items = len(item_id_dict)\n",
    "num_ratings = sum(map(lambda x: len(x), favoriter_dict.values()))\n",
    "\n",
    "print (\"\"\"There are {} users and {} items in the dataset, for a total of {} favorites. \n",
    "Of those users, {} of them have favorited more than 5 objects, accounting for {} ratings.\"\"\".format(\n",
    "    num_users, num_items, num_ratings, g5, sum_g5))"
   ]
  },
  {
   "cell_type": "code",
   "execution_count": null,
   "metadata": {
    "collapsed": true,
    "deletable": true,
    "editable": true
   },
   "outputs": [],
   "source": [
    "artist_dict = {}\n",
    "item_to_artist = {}"
   ]
  },
  {
   "cell_type": "code",
   "execution_count": null,
   "metadata": {
    "collapsed": false,
    "deletable": true,
    "editable": true
   },
   "outputs": [],
   "source": [
    "for artist, img_id, time in zip(expanded_artists,img_ids, times):\n",
    "    artist_id = user_id_dict[artist]\n",
    "    \n",
    "    item_id = item_id_dict[img_id]\n",
    "    try:\n",
    "        artist_dict[artist_id].extend([(item_id, time)])\n",
    "    except:\n",
    "        artist_dict[artist_id] = [(item_id, time)]\n",
    "        \n",
    "    item_to_artist[item_id] = artist_id"
   ]
  },
  {
   "cell_type": "code",
   "execution_count": null,
   "metadata": {
    "collapsed": false,
    "deletable": true,
    "editable": true
   },
   "outputs": [],
   "source": [
    "art_time_dict = {}"
   ]
  },
  {
   "cell_type": "code",
   "execution_count": null,
   "metadata": {
    "collapsed": true,
    "deletable": true,
    "editable": true
   },
   "outputs": [],
   "source": [
    "for img_id, time in zip(img_ids, times):\n",
    "    item_id = item_id_dict[img_id]\n",
    "    art_time_dict[item_id]=time\n"
   ]
  },
  {
   "cell_type": "code",
   "execution_count": null,
   "metadata": {
    "collapsed": true,
    "deletable": true,
    "editable": true
   },
   "outputs": [],
   "source": [
    "pkl.dump(art_time_dict, open('art_time3.p', 'wb'))"
   ]
  },
  {
   "cell_type": "code",
   "execution_count": null,
   "metadata": {
    "collapsed": false,
    "deletable": true,
    "editable": true
   },
   "outputs": [],
   "source": [
    "import operator\n",
    "\n",
    "for artist in artist_dict:\n",
    "    artist_dict[artist].sort(key=operator.itemgetter(1))\n",
    "    artist_dict[artist] = [i[0] for i in artist_dict[artist]]"
   ]
  },
  {
   "cell_type": "code",
   "execution_count": null,
   "metadata": {
    "collapsed": false,
    "deletable": true,
    "editable": true
   },
   "outputs": [],
   "source": [
    "g5 = sum(map(lambda x: len(x)>=5, artist_dict.values()))\n",
    "g20 = sum(map(lambda x: len(x)>=20, artist_dict.values()))\n",
    "g50 = sum(map(lambda x: len(x)>=50, artist_dict.values()))\n",
    "\n",
    "total50 = sum(map(lambda x: len(x) if len(x)>=50 else 0, artist_dict.values()))\n",
    "\n",
    "total = sum(map(lambda x: len(x), artist_dict.values()))\n",
    "\n",
    "num_artists = len(artist_dict)\n",
    "\n",
    "\n",
    "print('There are {} total artists, of whom {}, {}, {} have more than 5, 20, 50 respectively'.format(num_artists, g5, g20, g50))\n",
    "print ('The {} artists with 50+ uploads have posted {} of the {} pieces of artwork'.format(g50, total50, total))"
   ]
  },
  {
   "cell_type": "code",
   "execution_count": null,
   "metadata": {
    "collapsed": true,
    "deletable": true,
    "editable": true
   },
   "outputs": [],
   "source": [
    "pkl.dump(artist_dict, open('artist_dict3.p', 'wb'))\n",
    "pkl.dump(item_to_artist, open('item_to_artist3.p', 'wb'))\n",
    "pkl.dump(art_time_dict, open('art_time3.p', 'wb'))"
   ]
  }
 ],
 "metadata": {
  "kernelspec": {
   "display_name": "Python 3",
   "language": "python",
   "name": "python3"
  },
  "language_info": {
   "codemirror_mode": {
    "name": "ipython",
    "version": 3
   },
   "file_extension": ".py",
   "mimetype": "text/x-python",
   "name": "python",
   "nbconvert_exporter": "python",
   "pygments_lexer": "ipython3",
   "version": "3.6.1"
  }
 },
 "nbformat": 4,
 "nbformat_minor": 2
}
