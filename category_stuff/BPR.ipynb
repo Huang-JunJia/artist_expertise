{
 "cells": [
  {
   "cell_type": "code",
   "execution_count": 1,
   "metadata": {
    "collapsed": false,
    "deletable": true,
    "editable": true
   },
   "outputs": [],
   "source": [
    "import pickle as pkl\n",
    "import numpy as np\n",
    "\n",
    "data = pkl.load(open('favorited_dict3.p', 'rb'))\n",
    "max_item, max_user = pkl.load(open('useful_stats3.p', 'rb'))\n"
   ]
  },
  {
   "cell_type": "code",
   "execution_count": 2,
   "metadata": {
    "collapsed": false,
    "deletable": true,
    "editable": true
   },
   "outputs": [],
   "source": [
    "for key in data:\n",
    "    data[key] = np.unique(data[key]).tolist()"
   ]
  },
  {
   "cell_type": "code",
   "execution_count": 3,
   "metadata": {
    "collapsed": true,
    "deletable": true,
    "editable": true
   },
   "outputs": [],
   "source": [
    "from tqdm import tqdm_notebook as tqdm"
   ]
  },
  {
   "cell_type": "code",
   "execution_count": 4,
   "metadata": {
    "collapsed": true,
    "deletable": true,
    "editable": true
   },
   "outputs": [],
   "source": [
    "def create_validation(data):\n",
    "    valid = {}\n",
    "    for key in data:\n",
    "        rated_items = data[key]\n",
    "        if len(rated_items) > 1:\n",
    "            valid[key] = np.random.choice(rated_items)\n",
    "        else:\n",
    "            valid[key] = None\n",
    "    return valid\n",
    "        "
   ]
  },
  {
   "cell_type": "code",
   "execution_count": 5,
   "metadata": {
    "collapsed": true,
    "deletable": true,
    "editable": true
   },
   "outputs": [],
   "source": [
    "valid = create_validation(data)"
   ]
  },
  {
   "cell_type": "code",
   "execution_count": 6,
   "metadata": {
    "collapsed": false,
    "deletable": true,
    "editable": true
   },
   "outputs": [],
   "source": [
    "def sample_triple(data, valid, nSamples=1):\n",
    "    samples = np.zeros((nSamples, 3), dtype=int)\n",
    "    keys = list(data.keys())\n",
    "    users = np.random.choice(keys, nSamples) \n",
    "    samples[:, 0] = users\n",
    "    \n",
    "    for i, user in enumerate(tqdm(users)):\n",
    "        rated_items = data[user]\n",
    "        valid_item = valid[user]\n",
    "        unrated_item = np.random.choice(max_item)\n",
    "        while unrated_item in rated_items or unrated_item == valid_item:\n",
    "            unrated_item = np.random.choice(max_item)\n",
    "            \n",
    "        rated_item = np.random.choice(rated_items)\n",
    "\n",
    "        while rated_item == valid_item:\n",
    "            rated_item = np.random.choice(rated_items)\n",
    "\n",
    "        samples[i, 1] = rated_item\n",
    "        samples[i, 2] = unrated_item\n",
    "            \n",
    "    return samples\n"
   ]
  },
  {
   "cell_type": "code",
   "execution_count": 7,
   "metadata": {
    "collapsed": true,
    "deletable": true,
    "editable": true
   },
   "outputs": [],
   "source": [
    "import math\n",
    "\n",
    "def sigmoid(x):\n",
    "    try:\n",
    "        if type(x) in (int, float, np.float64):\n",
    "            return 1 / (1 + math.exp(-x))\n",
    "        else:\n",
    "            if len(x) == 1:\n",
    "                x = np.squeeze(x)\n",
    "                return 1 / (1 + math.exp(-x))\n",
    "            else:\n",
    "                return 1 / (1 + np.exp(-x))\n",
    "    except OverflowError:\n",
    "        return 0"
   ]
  },
  {
   "cell_type": "code",
   "execution_count": 8,
   "metadata": {
    "collapsed": true,
    "deletable": true,
    "editable": true
   },
   "outputs": [],
   "source": [
    "#hyperparameters\n",
    "k=20\n",
    "lr = 0.1\n",
    "lam_u = .1\n",
    "lam_bias = .1\n",
    "lam_rated = .1\n",
    "lam_unrated = .1"
   ]
  },
  {
   "cell_type": "code",
   "execution_count": 9,
   "metadata": {
    "collapsed": false,
    "deletable": true,
    "editable": true
   },
   "outputs": [],
   "source": [
    "item_biases = np.random.normal(size=max_item)\n",
    "latent_items = np.random.normal(size=(max_item, k))\n",
    "latent_users = np.random.normal(size=(max_user, k))\n"
   ]
  },
  {
   "cell_type": "markdown",
   "metadata": {
    "deletable": true,
    "editable": true
   },
   "source": [
    "Note that all of the above values are regularized pretty good. The mean value is quite small. But the max visual_user is actually pretty big, so maybe it can use more regularization."
   ]
  },
  {
   "cell_type": "code",
   "execution_count": 10,
   "metadata": {
    "collapsed": false,
    "deletable": true,
    "editable": true
   },
   "outputs": [],
   "source": [
    "def BR_opt(rated_item_bias, unrated_item_bias, latent_user, latent_rated_item, \n",
    "           latent_unrated_item):\n",
    "        \n",
    "\n",
    "    bias_difference = rated_item_bias - unrated_item_bias\n",
    "    \n",
    "    if latent_user.ndim == 1:\n",
    "        latent_difference = np.dot(latent_rated_item - latent_unrated_item, latent_user)\n",
    "    else:\n",
    "        latent_difference = np.einsum('ij,ji->i', latent_rated_item - latent_unrated_item, \n",
    "                                  np.transpose(latent_user)) \n",
    "        \n",
    "    \n",
    "    return (bias_difference + latent_difference)"
   ]
  },
  {
   "cell_type": "code",
   "execution_count": 11,
   "metadata": {
    "collapsed": true,
    "deletable": true,
    "editable": true
   },
   "outputs": [],
   "source": [
    "def create_valid_dataset(data, valid, nItems=10): #nItems is the number of items not in train/ valid \n",
    "    \n",
    "    valid_list = list(valid.items())\n",
    "    valid_users = [x[0] for x in valid_list if x[1] is not None]\n",
    "    valid_items = [x[1] for x in valid_list if x[1] is not None]\n",
    "    valid_users = np.repeat(valid_users, nItems)\n",
    "    valid_items = np.repeat(valid_items, nItems)\n",
    "    \n",
    "    samples = np.zeros((len(valid_users), 3), dtype=int)\n",
    "    samples[:, 0] = valid_users\n",
    "    samples[:, 1] = valid_items\n",
    "    \n",
    "    for i, user in enumerate(valid_users):\n",
    "        rated_items = data[user]\n",
    "        valid_item = valid[user]\n",
    "        unrated_item = np.random.choice(max_item)\n",
    "        while unrated_item in rated_items or unrated_item == valid_item:\n",
    "            unrated_item = np.random.choice(max_item)\n",
    "            \n",
    "        samples[i, 2] = unrated_item\n",
    "        \n",
    "    return samples\n",
    "\n"
   ]
  },
  {
   "cell_type": "code",
   "execution_count": 12,
   "metadata": {
    "collapsed": false,
    "deletable": true,
    "editable": true
   },
   "outputs": [],
   "source": [
    "def AUC(data, valid, item_biases, latent_items, latent_users):\n",
    "    \n",
    "    \n",
    "    samples = create_valid_dataset(data, valid, 5)\n",
    "    auc = 0.0\n",
    "    for user, rated_item, unrated_item in tqdm(samples):\n",
    "\n",
    "        # Extract out the relevant variables\n",
    "        rated_item_bias = item_biases[rated_item]\n",
    "        unrated_item_bias = item_biases[unrated_item]\n",
    "        latent_user = latent_users[user]\n",
    "        latent_rated_item = latent_items[rated_item]\n",
    "        latent_unrated_item = latent_items[unrated_item]\n",
    "\n",
    "        # Determine the output, i.e. x_uij \n",
    "        br_opt = BR_opt(rated_item_bias, unrated_item_bias, latent_user, latent_rated_item, latent_unrated_item)\n",
    "\n",
    "        auc += (br_opt > 0)\n",
    "    return auc/len(samples)"
   ]
  },
  {
   "cell_type": "code",
   "execution_count": 13,
   "metadata": {
    "collapsed": true,
    "deletable": true,
    "editable": true
   },
   "outputs": [],
   "source": [
    "aucs = []"
   ]
  },
  {
   "cell_type": "code",
   "execution_count": 22,
   "metadata": {
    "collapsed": false,
    "deletable": true,
    "editable": true
   },
   "outputs": [
    {
     "data": {
      "application/vnd.jupyter.widget-view+json": {
       "model_id": "1323f5b9316f49a7abbbf65afa0ae1c9"
      }
     },
     "metadata": {},
     "output_type": "display_data"
    },
    {
     "name": "stdout",
     "output_type": "stream",
     "text": [
      "\n"
     ]
    },
    {
     "data": {
      "application/vnd.jupyter.widget-view+json": {
       "model_id": "3f63ac8cb0554efc8ac412d90ed79c53"
      }
     },
     "metadata": {},
     "output_type": "display_data"
    },
    {
     "name": "stdout",
     "output_type": "stream",
     "text": [
      "\r",
      "          \r",
      "245108/|/  4%|| 245108/6000000 [00:17<06:42, 14283.99it/s]"
     ]
    },
    {
     "data": {
      "application/vnd.jupyter.widget-view+json": {
       "model_id": "c88496ee42a24b14b5d8cecf05f7fee1"
      }
     },
     "metadata": {},
     "output_type": "display_data"
    },
    {
     "name": "stdout",
     "output_type": "stream",
     "text": [
      "\r",
      "          \r",
      "495305/|/  8%|| 495305/6000000 [00:50<09:26, 9717.26it/s]"
     ]
    },
    {
     "data": {
      "application/vnd.jupyter.widget-view+json": {
       "model_id": "fa72eb228aa5432285ecbe8e71c7b77b"
      }
     },
     "metadata": {},
     "output_type": "display_data"
    },
    {
     "name": "stdout",
     "output_type": "stream",
     "text": [
      "\r",
      "          \r",
      "748222/|/ 12%|| 748222/6000000 [01:25<09:56, 8797.64it/s]"
     ]
    },
    {
     "data": {
      "application/vnd.jupyter.widget-view+json": {
       "model_id": "98e5b3426eb648d9a79d53274846e14e"
      }
     },
     "metadata": {},
     "output_type": "display_data"
    },
    {
     "name": "stdout",
     "output_type": "stream",
     "text": [
      "\r",
      "          \r",
      "998658/|/ 17%|| 998658/6000000 [01:58<09:55, 8393.70it/s]"
     ]
    },
    {
     "data": {
      "application/vnd.jupyter.widget-view+json": {
       "model_id": "4fd068961e464c0c8287c07a68550c41"
      }
     },
     "metadata": {},
     "output_type": "display_data"
    },
    {
     "name": "stdout",
     "output_type": "stream",
     "text": [
      "\r",
      "          \r",
      "1248853/|/ 21%|| 1248853/6000000 [02:32<09:41, 8176.98it/s]"
     ]
    },
    {
     "data": {
      "application/vnd.jupyter.widget-view+json": {
       "model_id": "02b334cea9ac416fa4eaf1829f044e43"
      }
     },
     "metadata": {},
     "output_type": "display_data"
    },
    {
     "name": "stdout",
     "output_type": "stream",
     "text": [
      "\r",
      "          \r",
      "1497165/|/ 25%|| 1497165/6000000 [03:06<09:20, 8030.39it/s]"
     ]
    },
    {
     "data": {
      "application/vnd.jupyter.widget-view+json": {
       "model_id": "c90a890c6f4b43f69b7224e31669bc1d"
      }
     },
     "metadata": {},
     "output_type": "display_data"
    },
    {
     "name": "stdout",
     "output_type": "stream",
     "text": [
      "\r",
      "          \r",
      "1749523/|/ 29%|| 1749523/6000000 [03:40<08:55, 7944.16it/s]"
     ]
    },
    {
     "data": {
      "application/vnd.jupyter.widget-view+json": {
       "model_id": "b7a741ff58d845788c962518f60d6a2b"
      }
     },
     "metadata": {},
     "output_type": "display_data"
    },
    {
     "name": "stdout",
     "output_type": "stream",
     "text": [
      "\r",
      "          \r",
      "1999009/|/ 33%|| 1999009/6000000 [04:13<08:28, 7871.30it/s]"
     ]
    },
    {
     "data": {
      "application/vnd.jupyter.widget-view+json": {
       "model_id": "5101ddb6e33d42e29da4a95329257854"
      }
     },
     "metadata": {},
     "output_type": "display_data"
    },
    {
     "name": "stdout",
     "output_type": "stream",
     "text": [
      "\r",
      "          \r",
      "2247491/|/ 37%|| 2247491/6000000 [04:47<08:00, 7810.31it/s]"
     ]
    },
    {
     "data": {
      "application/vnd.jupyter.widget-view+json": {
       "model_id": "45bfef3adaef4c24a112593adbf44bbe"
      }
     },
     "metadata": {},
     "output_type": "display_data"
    },
    {
     "name": "stdout",
     "output_type": "stream",
     "text": [
      "\r",
      "          \r",
      "2498652/|/ 42%|| 2498652/6000000 [05:21<07:30, 7777.23it/s]"
     ]
    },
    {
     "data": {
      "application/vnd.jupyter.widget-view+json": {
       "model_id": "bde4557d393147dd9568e03dd4721581"
      }
     },
     "metadata": {},
     "output_type": "display_data"
    },
    {
     "name": "stdout",
     "output_type": "stream",
     "text": [
      "\r",
      "          \r",
      "2744938/|/ 46%|| 2744938/6000000 [05:54<07:00, 7734.74it/s]"
     ]
    },
    {
     "data": {
      "application/vnd.jupyter.widget-view+json": {
       "model_id": "9fc4a858899a4813a2196431d5a47a67"
      }
     },
     "metadata": {},
     "output_type": "display_data"
    },
    {
     "name": "stdout",
     "output_type": "stream",
     "text": [
      "\r",
      "          \r",
      "2998327/|/ 50%|| 2998327/6000000 [06:28<06:29, 7708.11it/s]"
     ]
    },
    {
     "data": {
      "application/vnd.jupyter.widget-view+json": {
       "model_id": "735ff61f861e4e6d9f7b5944b432f2f2"
      }
     },
     "metadata": {},
     "output_type": "display_data"
    },
    {
     "name": "stdout",
     "output_type": "stream",
     "text": [
      "\r",
      "          \r",
      "3246510/|/ 54%|| 3246510/6000000 [07:02<05:58, 7678.92it/s]"
     ]
    },
    {
     "data": {
      "application/vnd.jupyter.widget-view+json": {
       "model_id": "431686497e154ba2984b7f97d6ffb37a"
      }
     },
     "metadata": {},
     "output_type": "display_data"
    },
    {
     "name": "stdout",
     "output_type": "stream",
     "text": [
      "\r",
      "          \r",
      "3495623/|/ 58%|| 3495623/6000000 [07:36<05:26, 7659.31it/s]"
     ]
    },
    {
     "data": {
      "application/vnd.jupyter.widget-view+json": {
       "model_id": "88033ef37a184d0da3c20206758c849d"
      }
     },
     "metadata": {},
     "output_type": "display_data"
    },
    {
     "name": "stdout",
     "output_type": "stream",
     "text": [
      "\r",
      "          \r",
      "3745310/|/ 62%|| 3745310/6000000 [08:10<04:55, 7640.88it/s]"
     ]
    },
    {
     "data": {
      "application/vnd.jupyter.widget-view+json": {
       "model_id": "b3333218e554420a9eedfd45df4b929c"
      }
     },
     "metadata": {},
     "output_type": "display_data"
    },
    {
     "name": "stdout",
     "output_type": "stream",
     "text": [
      "\r",
      "          \r",
      "3999577/|/ 67%|| 3999577/6000000 [08:44<04:22, 7630.60it/s]"
     ]
    },
    {
     "data": {
      "application/vnd.jupyter.widget-view+json": {
       "model_id": "f6ed15682eae4cca828c854b0880dfd5"
      }
     },
     "metadata": {},
     "output_type": "display_data"
    },
    {
     "name": "stdout",
     "output_type": "stream",
     "text": [
      "\r",
      "          \r",
      "4248085/|/ 71%|| 4248085/6000000 [09:18<03:50, 7605.77it/s]"
     ]
    },
    {
     "data": {
      "application/vnd.jupyter.widget-view+json": {
       "model_id": "ba44e12fbd3d452c81082e789717f5ec"
      }
     },
     "metadata": {},
     "output_type": "display_data"
    },
    {
     "name": "stdout",
     "output_type": "stream",
     "text": [
      "\r",
      "          \r",
      "4496514/|/ 75%|| 4496514/6000000 [09:52<03:18, 7587.01it/s]"
     ]
    },
    {
     "data": {
      "application/vnd.jupyter.widget-view+json": {
       "model_id": "c96da840252148558a7d49cf61eb6eee"
      }
     },
     "metadata": {},
     "output_type": "display_data"
    },
    {
     "name": "stdout",
     "output_type": "stream",
     "text": [
      "\r",
      "          \r",
      "4747665/|/ 79%|| 4747665/6000000 [10:26<02:45, 7580.15it/s]"
     ]
    },
    {
     "data": {
      "application/vnd.jupyter.widget-view+json": {
       "model_id": "d48e4ab68047411283434aefbed823a4"
      }
     },
     "metadata": {},
     "output_type": "display_data"
    },
    {
     "name": "stdout",
     "output_type": "stream",
     "text": [
      "\r",
      "          \r",
      "4995084/|/ 83%|| 4995084/6000000 [10:59<02:12, 7570.53it/s]"
     ]
    },
    {
     "data": {
      "application/vnd.jupyter.widget-view+json": {
       "model_id": "702788826d014da5a2535c279a14e98f"
      }
     },
     "metadata": {},
     "output_type": "display_data"
    },
    {
     "name": "stdout",
     "output_type": "stream",
     "text": [
      "\r",
      "          \r",
      "5246992/|/ 87%|| 5246992/6000000 [11:33<01:39, 7566.62it/s]"
     ]
    },
    {
     "data": {
      "application/vnd.jupyter.widget-view+json": {
       "model_id": "c679fab42f964dc68e757fe684092a7f"
      }
     },
     "metadata": {},
     "output_type": "display_data"
    },
    {
     "name": "stdout",
     "output_type": "stream",
     "text": [
      "\r",
      "          \r",
      "5495048/|/ 92%|| 5495048/6000000 [12:07<01:06, 7555.49it/s]"
     ]
    },
    {
     "data": {
      "application/vnd.jupyter.widget-view+json": {
       "model_id": "41bfe0a7e38640eab8c3f82e7069a2ce"
      }
     },
     "metadata": {},
     "output_type": "display_data"
    },
    {
     "name": "stdout",
     "output_type": "stream",
     "text": [
      "\r",
      "          \r",
      "5744822/|/ 96%|| 5744822/6000000 [12:41<00:33, 7546.95it/s]"
     ]
    },
    {
     "data": {
      "application/vnd.jupyter.widget-view+json": {
       "model_id": "1e5b0e2d8a1a4f7884cedde5df71acf1"
      }
     },
     "metadata": {},
     "output_type": "display_data"
    },
    {
     "name": "stdout",
     "output_type": "stream",
     "text": [
      "\r",
      "          \r",
      "5997111/|/100%|| 5997111/6000000 [13:15<00:00, 7541.29it/s]"
     ]
    },
    {
     "data": {
      "application/vnd.jupyter.widget-view+json": {
       "model_id": "287b06a968fd4b748bc5c7ddaa190d98"
      }
     },
     "metadata": {},
     "output_type": "display_data"
    },
    {
     "name": "stdout",
     "output_type": "stream",
     "text": [
      "\n"
     ]
    }
   ],
   "source": [
    "samples = sample_triple(data, valid, 6000000)\n",
    "count = 0\n",
    "for user, rated_item, unrated_item in tqdm(samples):\n",
    "    \n",
    "    # Extract out the relevant variables\n",
    "    rated_item_bias = item_biases[rated_item]\n",
    "    unrated_item_bias = item_biases[unrated_item]\n",
    "    latent_user = latent_users[user]\n",
    "    latent_rated_item = latent_items[rated_item]\n",
    "    latent_unrated_item = latent_items[unrated_item]\n",
    "    \n",
    "    br_opt = BR_opt(rated_item_bias, unrated_item_bias, latent_user, latent_rated_item, latent_unrated_item)\n",
    "    \n",
    "    output = sigmoid(-br_opt)\n",
    "\n",
    "    # Perform gradient updates\n",
    "    item_biases[rated_item] = (1-lr*lam_bias) * rated_item_bias + lr * output\n",
    "    item_biases[unrated_item] = (1-lr*lam_bias) * unrated_item_bias - lr * output\n",
    "    \n",
    "    latent_items[rated_item] = (1-lr*lam_rated) * latent_rated_item + lr * output * latent_user\n",
    "    latent_items[unrated_item] = (1-lr*lam_unrated) * latent_unrated_item - lr * output * latent_user\n",
    "    latent_users[user] = (1-lr*lam_unrated) * latent_user \\\n",
    "                        + lr * output * (latent_rated_item-latent_unrated_item)\n",
    "\n",
    "    count += 1\n",
    "\n",
    "    if count % 250000 is 0:\n",
    "        aucs.append(AUC(data, valid, item_biases, latent_items, latent_users))\n"
   ]
  },
  {
   "cell_type": "code",
   "execution_count": 23,
   "metadata": {
    "collapsed": false,
    "deletable": true,
    "editable": true
   },
   "outputs": [
    {
     "data": {
      "text/plain": [
       "[<matplotlib.lines.Line2D at 0x144c5beb8>]"
      ]
     },
     "execution_count": 23,
     "metadata": {},
     "output_type": "execute_result"
    },
    {
     "data": {
      "image/png": "[encoded data removed]",
      "text/plain": [
       "<matplotlib.figure.Figure at 0x1171fd2b0>"
      ]
     },
     "metadata": {},
     "output_type": "display_data"
    }
   ],
   "source": [
    "import matplotlib.pyplot as plt\n",
    "%matplotlib inline\n",
    "plt.plot(np.array(range(len(aucs)+1))*250000, [0.5]+aucs)"
   ]
  },
  {
   "cell_type": "code",
   "execution_count": 24,
   "metadata": {
    "collapsed": false,
    "deletable": true,
    "editable": true
   },
   "outputs": [
    {
     "data": {
      "text/plain": [
       "0.85370452388484652"
      ]
     },
     "execution_count": 24,
     "metadata": {},
     "output_type": "execute_result"
    }
   ],
   "source": [
    "max(aucs)"
   ]
  },
  {
   "cell_type": "code",
   "execution_count": 156,
   "metadata": {
    "collapsed": false,
    "deletable": true,
    "editable": true,
    "scrolled": true
   },
   "outputs": [
    {
     "ename": "KeyboardInterrupt",
     "evalue": "",
     "output_type": "error",
     "traceback": [
      "\u001b[0;31m---------------------------------------------------------------------------\u001b[0m",
      "\u001b[0;31mKeyboardInterrupt\u001b[0m                         Traceback (most recent call last)",
      "\u001b[0;32m<ipython-input-156-0c1a7520f72b>\u001b[0m in \u001b[0;36m<module>\u001b[0;34m()\u001b[0m\n\u001b[0;32m----> 1\u001b[0;31m \u001b[0mAUC\u001b[0m\u001b[0;34m(\u001b[0m\u001b[0mdata\u001b[0m\u001b[0;34m,\u001b[0m \u001b[0mvalid\u001b[0m\u001b[0;34m,\u001b[0m \u001b[0mitem_biases\u001b[0m\u001b[0;34m,\u001b[0m \u001b[0mlatent_items\u001b[0m\u001b[0;34m,\u001b[0m \u001b[0mlatent_users\u001b[0m\u001b[0;34m)\u001b[0m\u001b[0;34m\u001b[0m\u001b[0m\n\u001b[0m",
      "\u001b[0;32m<ipython-input-143-c2c4f75092e5>\u001b[0m in \u001b[0;36mAUC\u001b[0;34m(data, valid, item_biases, latent_items, latent_users)\u001b[0m\n\u001b[1;32m      2\u001b[0m \u001b[0;34m\u001b[0m\u001b[0m\n\u001b[1;32m      3\u001b[0m \u001b[0;34m\u001b[0m\u001b[0m\n\u001b[0;32m----> 4\u001b[0;31m     \u001b[0msamples\u001b[0m \u001b[0;34m=\u001b[0m \u001b[0mcreate_valid_dataset\u001b[0m\u001b[0;34m(\u001b[0m\u001b[0mdata\u001b[0m\u001b[0;34m,\u001b[0m \u001b[0mvalid\u001b[0m\u001b[0;34m,\u001b[0m \u001b[0;36m5\u001b[0m\u001b[0;34m)\u001b[0m\u001b[0;34m\u001b[0m\u001b[0m\n\u001b[0m\u001b[1;32m      5\u001b[0m     \u001b[0mauc\u001b[0m \u001b[0;34m=\u001b[0m \u001b[0;36m0.0\u001b[0m\u001b[0;34m\u001b[0m\u001b[0m\n\u001b[1;32m      6\u001b[0m     \u001b[0;32mfor\u001b[0m \u001b[0muser\u001b[0m\u001b[0;34m,\u001b[0m \u001b[0mrated_item\u001b[0m\u001b[0;34m,\u001b[0m \u001b[0munrated_item\u001b[0m \u001b[0;32min\u001b[0m \u001b[0mtqdm\u001b[0m\u001b[0;34m(\u001b[0m\u001b[0msamples\u001b[0m\u001b[0;34m)\u001b[0m\u001b[0;34m:\u001b[0m\u001b[0;34m\u001b[0m\u001b[0m\n",
      "\u001b[0;32m<ipython-input-142-06b030197473>\u001b[0m in \u001b[0;36mcreate_valid_dataset\u001b[0;34m(data, valid, nItems)\u001b[0m\n\u001b[1;32m     14\u001b[0m         \u001b[0mrated_items\u001b[0m \u001b[0;34m=\u001b[0m \u001b[0mdata\u001b[0m\u001b[0;34m[\u001b[0m\u001b[0muser\u001b[0m\u001b[0;34m]\u001b[0m\u001b[0;34m\u001b[0m\u001b[0m\n\u001b[1;32m     15\u001b[0m         \u001b[0mvalid_item\u001b[0m \u001b[0;34m=\u001b[0m \u001b[0mvalid\u001b[0m\u001b[0;34m[\u001b[0m\u001b[0muser\u001b[0m\u001b[0;34m]\u001b[0m\u001b[0;34m\u001b[0m\u001b[0m\n\u001b[0;32m---> 16\u001b[0;31m         \u001b[0munrated_item\u001b[0m \u001b[0;34m=\u001b[0m \u001b[0mnp\u001b[0m\u001b[0;34m.\u001b[0m\u001b[0mrandom\u001b[0m\u001b[0;34m.\u001b[0m\u001b[0mchoice\u001b[0m\u001b[0;34m(\u001b[0m\u001b[0mmax_item\u001b[0m\u001b[0;34m)\u001b[0m\u001b[0;34m\u001b[0m\u001b[0m\n\u001b[0m\u001b[1;32m     17\u001b[0m         \u001b[0;32mwhile\u001b[0m \u001b[0munrated_item\u001b[0m \u001b[0;32min\u001b[0m \u001b[0mrated_items\u001b[0m \u001b[0;32mor\u001b[0m \u001b[0munrated_item\u001b[0m \u001b[0;34m==\u001b[0m \u001b[0mvalid_item\u001b[0m\u001b[0;34m:\u001b[0m\u001b[0;34m\u001b[0m\u001b[0m\n\u001b[1;32m     18\u001b[0m             \u001b[0munrated_item\u001b[0m \u001b[0;34m=\u001b[0m \u001b[0mnp\u001b[0m\u001b[0;34m.\u001b[0m\u001b[0mrandom\u001b[0m\u001b[0;34m.\u001b[0m\u001b[0mchoice\u001b[0m\u001b[0;34m(\u001b[0m\u001b[0mmax_item\u001b[0m\u001b[0;34m)\u001b[0m\u001b[0;34m\u001b[0m\u001b[0m\n",
      "\u001b[0;31mKeyboardInterrupt\u001b[0m: "
     ]
    }
   ],
   "source": [
    "AUC(data, valid, item_biases, latent_items, latent_users)"
   ]
  }
 ],
 "metadata": {
  "kernelspec": {
   "display_name": "Python 3",
   "language": "python",
   "name": "python3"
  },
  "language_info": {
   "codemirror_mode": {
    "name": "ipython",
    "version": 3
   },
   "file_extension": ".py",
   "mimetype": "text/x-python",
   "name": "python",
   "nbconvert_exporter": "python",
   "pygments_lexer": "ipython3",
   "version": "3.6.1"
  }
 },
 "nbformat": 4,
 "nbformat_minor": 2
}
