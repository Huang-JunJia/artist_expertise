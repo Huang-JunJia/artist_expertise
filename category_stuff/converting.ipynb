{
 "cells": [
  {
   "cell_type": "code",
   "execution_count": 1,
   "metadata": {
    "collapsed": false,
    "deletable": true,
    "editable": true
   },
   "outputs": [],
   "source": [
    "import pickle as pkl\n",
    "import numpy as np"
   ]
  },
  {
   "cell_type": "code",
   "execution_count": 2,
   "metadata": {
    "collapsed": false,
    "deletable": true,
    "editable": true
   },
   "outputs": [],
   "source": [
    "data, _ = pkl.load(open(\"traditional_drawings_abstract.p\", \"rb\"))\n",
    "data2, _ = pkl.load(open(\"traditional_paintings_abstract.p\", \"rb\"))\n"
   ]
  },
  {
   "cell_type": "code",
   "execution_count": 3,
   "metadata": {
    "collapsed": false,
    "deletable": true,
    "editable": true
   },
   "outputs": [],
   "source": [
    "data = data + data2"
   ]
  },
  {
   "cell_type": "code",
   "execution_count": 4,
   "metadata": {
    "collapsed": false,
    "deletable": true,
    "editable": true
   },
   "outputs": [],
   "source": [
    "try:\n",
    "    user_id_dict, user_count = pkl.load(open('user_id2.p', 'rb'))\n",
    "    item_id_dict, item_count = pkl.load(open('item_id2.p', 'rb'))\n",
    "    id_img_dict = pkl.load(open('id_img2.p', 'rb'))\n",
    "except FileNotFoundError:\n",
    "    user_id_dict = {}; item_id_dict = {}; id_img_dict = {}\n",
    "    user_count = 0; item_count = 0"
   ]
  },
  {
   "cell_type": "code",
   "execution_count": 5,
   "metadata": {
    "collapsed": false,
    "deletable": true,
    "editable": true
   },
   "outputs": [],
   "source": [
    "artists = [entry[0] for entry in data]\n",
    "favorite_lists = [[pair[0] for pair in entry[-1]] for entry in data]\n",
    "favorite_lists_flattened = [item for sublist in favorite_lists for item in sublist]\n",
    "img_ids = [entry[1] for entry in data]\n",
    "img_srcs = [entry[3] for entry in data]\n",
    "times = [entry[2] for entry in data]\n",
    "\n"
   ]
  },
  {
   "cell_type": "code",
   "execution_count": 8,
   "metadata": {
    "collapsed": true
   },
   "outputs": [],
   "source": [
    "converted_img_ids = [item_id_dict[item] for item in img_ids]\n",
    "num_favorites = [len(item) for item in favorite_lists]\n",
    "\n",
    "img_nfavs_dict = dict(zip(converted_img_ids, num_favorites))\n",
    "pkl.dump(img_nfavs_dict, open('img_nfavs.p', 'wb'))"
   ]
  },
  {
   "cell_type": "code",
   "execution_count": 9,
   "metadata": {
    "collapsed": false
   },
   "outputs": [
    {
     "data": {
      "text/plain": [
       "47.072922736277825"
      ]
     },
     "execution_count": 9,
     "metadata": {},
     "output_type": "execute_result"
    }
   ],
   "source": [
    "np.mean(num_favorites)"
   ]
  },
  {
   "cell_type": "code",
   "execution_count": 13,
   "metadata": {
    "collapsed": false
   },
   "outputs": [],
   "source": [
    "rev = dict(zip(list(user_id_dict.values()), list(user_id_dict.keys()))) #map user_id to user "
   ]
  },
  {
   "cell_type": "code",
   "execution_count": 12,
   "metadata": {
    "collapsed": false,
    "deletable": true,
    "editable": true
   },
   "outputs": [],
   "source": [
    "try:\n",
    "    favoriter_dict = pkl.load(open('favorited_dict2.p', 'rb'))\n",
    "except FileNotFoundError:\n",
    "    favoriter_dict = {}"
   ]
  },
  {
   "cell_type": "code",
   "execution_count": 7,
   "metadata": {
    "collapsed": false,
    "deletable": true,
    "editable": true
   },
   "outputs": [],
   "source": [
    "for artist, img_id, img_src, favorite_list in zip(artists,img_ids,img_srcs, favorite_lists):\n",
    "    \n",
    "    if img_id in item_id_dict: # For some reason, there's a duplicate\n",
    "        continue # So just keep going \n",
    "    else:\n",
    "        item_id = item_count;\n",
    "        item_id_dict[img_id] = item_id; item_count += 1\n",
    "    \n",
    "    artist = artist.username\n",
    "    try:\n",
    "        artist_id = user_id_dict[artist]\n",
    "    except:\n",
    "        artist_id = user_count;\n",
    "        user_id_dict[artist] = artist_id; user_count += 1\n",
    "    \n",
    "    \n",
    "    id_img_dict[item_id] = (img_src, artist_id)\n",
    "    \n",
    "    fav_ids = []\n",
    "    for favoriter in favorite_list:\n",
    "        favoriter = favoriter.username\n",
    "        try:\n",
    "            fav_id = user_id_dict[favoriter]\n",
    "        except:\n",
    "            fav_id = user_count;\n",
    "            user_id_dict[favoriter] = fav_id; user_count += 1\n",
    "        finally:\n",
    "            try:\n",
    "                favoriter_dict[fav_id].extend([item_id])\n",
    "            except KeyError:\n",
    "                favoriter_dict[fav_id] = [item_id]"
   ]
  },
  {
   "cell_type": "code",
   "execution_count": 8,
   "metadata": {
    "collapsed": false,
    "deletable": true,
    "editable": true
   },
   "outputs": [],
   "source": [
    "pkl.dump(favoriter_dict, open('favorited_dict2.p', 'wb'))\n",
    "pkl.dump((user_id_dict, user_count), open('user_id2.p', 'wb'))\n",
    "pkl.dump((item_id_dict, item_count), open('item_id2.p', 'wb'))\n",
    "pkl.dump(id_img_dict,  open('id_img2.p', 'wb'))\n",
    "\n",
    "\n",
    "max_item = max(item_id_dict.values())\n",
    "max_user = max(user_id_dict.values())\n",
    "pkl.dump((max_item+1, max_user+1), open('useful_stats2.p', 'wb'))"
   ]
  },
  {
   "cell_type": "markdown",
   "metadata": {
    "collapsed": true,
    "deletable": true,
    "editable": true
   },
   "source": [
    "users_with_favorites = list(favoriter_dict.keys())\n",
    "np.random.shuffle(users_with_favorites)\n",
    "\n",
    "\n",
    "writer = tf.python_io.TFRecordWriter(\"test2.tfrecords\")"
   ]
  },
  {
   "cell_type": "markdown",
   "metadata": {
    "collapsed": true,
    "deletable": true,
    "editable": true
   },
   "source": [
    "from tqdm import tqdm"
   ]
  },
  {
   "cell_type": "markdown",
   "metadata": {
    "collapsed": false,
    "deletable": true,
    "editable": true
   },
   "source": [
    "for user in tqdm(users_with_favorites):\n",
    "    favorited_items = favoriter_dict[user]\n",
    "    ''' construct the Example proto object '''\n",
    "    example = tf.train.Example(\n",
    "        ''' Example contains a Features proto object '''\n",
    "        features=tf.train.Features(\n",
    "          ''' Features contains a map of string to Feature proto objects '''\n",
    "          feature={\n",
    "            ''' A Feature contains one of either a int64_list,\n",
    "             float_list, or bytes_list '''\n",
    "            'user': tf.train.Feature(\n",
    "                int64_list=tf.train.Int64List(value=[user])),\n",
    "\n",
    "            'favorited': tf.train.Feature(\n",
    "                int64_list=tf.train.Int64List(value=favorited_items)),\n",
    "    }))\n",
    "    serialized = example.SerializeToString()\n",
    "    ''' write the serialized object to disk '''\n",
    "    writer.write(serialized)\n",
    "\n"
   ]
  },
  {
   "cell_type": "code",
   "execution_count": 9,
   "metadata": {
    "collapsed": false,
    "deletable": true,
    "editable": true
   },
   "outputs": [
    {
     "name": "stdout",
     "output_type": "stream",
     "text": [
      "There are 686975 users and 66431 items in the dataset, for a total of 3203375 favorites. \n",
      "Of those users, 122010 of them have favorited more than 5 objects, accounting for 2202460 ratings.\n"
     ]
    }
   ],
   "source": [
    "g5 = sum(map(lambda x: len(x)>=5, favoriter_dict.values()))\n",
    "sum_g5 = sum(map(lambda x: len(x) if len(x)>5 else 0, favoriter_dict.values()))\n",
    "num_users = len(user_id_dict)\n",
    "num_items = len(item_id_dict)\n",
    "num_ratings = sum(map(lambda x: len(x), favoriter_dict.values()))\n",
    "\n",
    "print (\"\"\"There are {} users and {} items in the dataset, for a total of {} favorites. \n",
    "Of those users, {} of them have favorited more than 5 objects, accounting for {} ratings.\"\"\".format(\n",
    "    num_users, num_items, num_ratings, g5, sum_g5))"
   ]
  },
  {
   "cell_type": "code",
   "execution_count": 47,
   "metadata": {
    "collapsed": true,
    "deletable": true,
    "editable": true
   },
   "outputs": [],
   "source": [
    "artist_dict = {}\n",
    "item_to_artist = {}"
   ]
  },
  {
   "cell_type": "code",
   "execution_count": 48,
   "metadata": {
    "collapsed": false,
    "deletable": true,
    "editable": true
   },
   "outputs": [],
   "source": [
    "for artist, img_id, time in zip(artists,img_ids, times):\n",
    "    artist = artist.username\n",
    "    artist_id = user_id_dict[artist]\n",
    "    \n",
    "    item_id = item_id_dict[img_id]\n",
    "    try:\n",
    "        artist_dict[artist_id].extend([(item_id, time)])\n",
    "    except:\n",
    "        artist_dict[artist_id] = [(item_id, time)]\n",
    "        \n",
    "    item_to_artist[item_id] = artist_id"
   ]
  },
  {
   "cell_type": "code",
   "execution_count": 62,
   "metadata": {
    "collapsed": false,
    "deletable": true,
    "editable": true
   },
   "outputs": [],
   "source": [
    "import operator\n",
    "\n",
    "for artist in artist_dict:\n",
    "    artist_dict[artist].sort(key=operator.itemgetter(1))\n",
    "    artist_dict[artist] = [i[0] for i in artist_dict[artist]]"
   ]
  },
  {
   "cell_type": "code",
   "execution_count": 23,
   "metadata": {
    "collapsed": false,
    "deletable": true,
    "editable": true
   },
   "outputs": [
    {
     "name": "stdout",
     "output_type": "stream",
     "text": [
      "There are 18014 total artists, of whom 2130, 480, 179 have more than 5, 20, 50 respectively\n",
      "The 179 artists with 50+ uploads have posted 23296 of the 68648 pieces of artwork\n"
     ]
    }
   ],
   "source": [
    "g5 = sum(map(lambda x: len(x)>=5, artist_dict.values()))\n",
    "g20 = sum(map(lambda x: len(x)>=20, artist_dict.values()))\n",
    "g50 = sum(map(lambda x: len(x)>=50, artist_dict.values()))\n",
    "\n",
    "total50 = sum(map(lambda x: len(x) if len(x)>=50 else 0, artist_dict.values()))\n",
    "\n",
    "total = sum(map(lambda x: len(x), artist_dict.values()))\n",
    "\n",
    "num_artists = len(artist_dict)\n",
    "\n",
    "\n",
    "print('There are {} total artists, of whom {}, {}, {} have more than 5, 20, 50 respectively'.format(num_artists, g5, g20, g50))\n",
    "print ('The {} artists with 50+ uploads have posted {} of the {} pieces of artwork'.format(g50, total50, total))"
   ]
  },
  {
   "cell_type": "code",
   "execution_count": 64,
   "metadata": {
    "collapsed": true,
    "deletable": true,
    "editable": true
   },
   "outputs": [],
   "source": [
    "pkl.dump(artist_dict, open('artist_dict.p', 'wb'))\n",
    "pkl.dump(item_to_artist, open('item_to_artist.p', 'wb'))"
   ]
  },
  {
   "cell_type": "code",
   "execution_count": null,
   "metadata": {
    "collapsed": true,
    "deletable": true,
    "editable": true
   },
   "outputs": [],
   "source": []
  }
 ],
 "metadata": {
  "kernelspec": {
   "display_name": "Python 3",
   "language": "python",
   "name": "python3"
  },
  "language_info": {
   "codemirror_mode": {
    "name": "ipython",
    "version": 3
   },
   "file_extension": ".py",
   "mimetype": "text/x-python",
   "name": "python",
   "nbconvert_exporter": "python",
   "pygments_lexer": "ipython3",
   "version": "3.6.1"
  }
 },
 "nbformat": 4,
 "nbformat_minor": 2
}
