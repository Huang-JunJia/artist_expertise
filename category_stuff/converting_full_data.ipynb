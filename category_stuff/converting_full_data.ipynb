{
 "cells": [
  {
   "cell_type": "code",
   "execution_count": 35,
   "metadata": {
    "collapsed": false,
    "deletable": true,
    "editable": true
   },
   "outputs": [],
   "source": [
    "import pickle as pkl\n",
    "import numpy as np"
   ]
  },
  {
   "cell_type": "code",
   "execution_count": 36,
   "metadata": {
    "collapsed": false,
    "deletable": true,
    "editable": true
   },
   "outputs": [],
   "source": [
    "data= pkl.load(open(\"../author_data_full.p\", \"rb\"))"
   ]
  },
  {
   "cell_type": "code",
   "execution_count": 37,
   "metadata": {
    "collapsed": false,
    "deletable": true,
    "editable": true
   },
   "outputs": [],
   "source": [
    "try:\n",
    "    user_id_dict, user_count = pkl.load(open('user_id_full.p', 'rb'))\n",
    "    item_id_dict, item_count = pkl.load(open('item_id_full.p', 'rb'))\n",
    "    id_img_dict = pkl.load(open('id_img_full.p', 'rb'))\n",
    "except FileNotFoundError:\n",
    "    user_id_dict = {}; item_id_dict = {}; id_img_dict = {}\n",
    "    user_count = 0; item_count = 0"
   ]
  },
  {
   "cell_type": "code",
   "execution_count": 38,
   "metadata": {
    "collapsed": false,
    "deletable": true,
    "editable": true
   },
   "outputs": [],
   "source": [
    "try:\n",
    "    favoriter_dict = pkl.load(open('favorited_dict_full.p', 'rb'))\n",
    "except FileNotFoundError:\n",
    "    favoriter_dict = {}"
   ]
  },
  {
   "cell_type": "code",
   "execution_count": 39,
   "metadata": {
    "collapsed": false,
    "deletable": true,
    "editable": true
   },
   "outputs": [],
   "source": [
    "artists = list(data.keys())"
   ]
  },
  {
   "cell_type": "code",
   "execution_count": 40,
   "metadata": {
    "collapsed": true,
    "deletable": true,
    "editable": true
   },
   "outputs": [],
   "source": [
    "#pkl.dump(artists, open('used_artists.p', 'wb'))"
   ]
  },
  {
   "cell_type": "code",
   "execution_count": 41,
   "metadata": {
    "collapsed": false,
    "deletable": true,
    "editable": true
   },
   "outputs": [],
   "source": [
    "img_ids = []\n",
    "favorite_lists = []\n",
    "expanded_artists = []\n",
    "times = []"
   ]
  },
  {
   "cell_type": "code",
   "execution_count": 42,
   "metadata": {
    "collapsed": true,
    "deletable": true,
    "editable": true
   },
   "outputs": [],
   "source": [
    "dd_dict = {}\n",
    "time_dict = {}\n",
    "cat_dict = {}"
   ]
  },
  {
   "cell_type": "code",
   "execution_count": 43,
   "metadata": {
    "collapsed": true,
    "deletable": true,
    "editable": true
   },
   "outputs": [],
   "source": [
    "categories = [data[x] for x in data]\n",
    "categories = [y for x in categories for y in x]\n",
    "all_categories = [x[4] for x in categories if x is not None]\n",
    "filtered = [x for x in all_categories if 'digital' in x or 'traditional' in x]"
   ]
  },
  {
   "cell_type": "code",
   "execution_count": 44,
   "metadata": {
    "collapsed": false,
    "deletable": true,
    "editable": true
   },
   "outputs": [],
   "source": [
    "def category_filter(string):\n",
    "    bad_strings = ['text', 'ascii', 'streetart', 'streetart', 'comics', 'bodyart', 'sculpture']\n",
    "    for bad in bad_strings:\n",
    "        if bad in string:\n",
    "            return False   \n",
    "    return True\n",
    "\n",
    "filtered2 = [x for x in filtered if category_filter(x)]"
   ]
  },
  {
   "cell_type": "code",
   "execution_count": 45,
   "metadata": {
    "collapsed": false,
    "deletable": true,
    "editable": true
   },
   "outputs": [],
   "source": [
    "categories = [data[x] for x in data]\n",
    "categories = [y for x in categories for y in x]\n",
    "categories = np.unique([x[4] for x in categories if x is not None])"
   ]
  },
  {
   "cell_type": "code",
   "execution_count": 46,
   "metadata": {
    "collapsed": false,
    "deletable": true,
    "editable": true
   },
   "outputs": [],
   "source": [
    "first_category = np.unique([x.split('/')[0] for x in categories])"
   ]
  },
  {
   "cell_type": "code",
   "execution_count": 47,
   "metadata": {
    "collapsed": false,
    "deletable": true,
    "editable": true
   },
   "outputs": [
    {
     "data": {
      "text/plain": [
       "835"
      ]
     },
     "execution_count": 47,
     "metadata": {},
     "output_type": "execute_result"
    }
   ],
   "source": [
    "len(categories)"
   ]
  },
  {
   "cell_type": "code",
   "execution_count": 48,
   "metadata": {
    "collapsed": false,
    "deletable": true,
    "editable": true
   },
   "outputs": [],
   "source": [
    "first_category\n",
    "cat_int_dict = dict(zip(first_category, range(0,len(first_category))))"
   ]
  },
  {
   "cell_type": "code",
   "execution_count": 49,
   "metadata": {
    "collapsed": false,
    "deletable": true,
    "editable": true
   },
   "outputs": [
    {
     "data": {
      "text/plain": [
       "{'': 0,\n",
       " 'anthro': 1,\n",
       " 'apps': 2,\n",
       " 'artisan': 3,\n",
       " 'cartoons': 4,\n",
       " 'contests': 5,\n",
       " 'customization': 6,\n",
       " 'darelated': 7,\n",
       " 'designs': 8,\n",
       " 'digitalart': 9,\n",
       " 'fanart': 10,\n",
       " 'flash': 11,\n",
       " 'literature': 12,\n",
       " 'manga': 13,\n",
       " 'motionbooks': 14,\n",
       " 'photography': 15,\n",
       " 'projects': 16,\n",
       " 'resources': 17,\n",
       " 'traditional': 18}"
      ]
     },
     "execution_count": 49,
     "metadata": {},
     "output_type": "execute_result"
    }
   ],
   "source": [
    "cat_int_dict"
   ]
  },
  {
   "cell_type": "code",
   "execution_count": 50,
   "metadata": {
    "collapsed": true,
    "deletable": true,
    "editable": true
   },
   "outputs": [],
   "source": [
    "from datetime import datetime"
   ]
  },
  {
   "cell_type": "code",
   "execution_count": null,
   "metadata": {
    "collapsed": false,
    "deletable": true,
    "editable": true
   },
   "outputs": [],
   "source": [
    "for artist in artists:\n",
    "    \n",
    "    artist_data = data[artist]\n",
    "    try:\n",
    "        artist_id = user_id_dict[artist]\n",
    "    except:\n",
    "        artist_id = user_count;\n",
    "        user_id_dict[artist] = artist_id; user_count += 1\n",
    "\n",
    "        \n",
    "    for entry in artist_data:\n",
    "        '''Set item id dict'''\n",
    "        if not entry: continue\n",
    "        if entry[4] not in filtered2: continue\n",
    "        img_id = entry[1]\n",
    "\n",
    "        if img_id in item_id_dict: # For some reason, there's a duplicate\n",
    "            continue # So just keep going \n",
    "        else:\n",
    "            img_ids.append(img_id)\n",
    "\n",
    "        item_id = item_count;\n",
    "        item_id_dict[img_id] = item_id; item_count += 1\n",
    "        \n",
    "        img_src = entry[3]\n",
    "    \n",
    "        id_img_dict[item_id] = (img_src, artist_id)\n",
    "\n",
    "        favorite_list = entry[7]\n",
    "        favorite_lists.append(favorite_list)\n",
    "        for favoriter in favorite_list:\n",
    "            favoriter = favoriter[0]\n",
    "            try:\n",
    "                fav_id = user_id_dict[favoriter]\n",
    "            except:\n",
    "                fav_id = user_count;\n",
    "                user_id_dict[favoriter] = fav_id; user_count += 1\n",
    "            finally:\n",
    "                try:\n",
    "                    favoriter_dict[fav_id].extend([item_id])\n",
    "                except KeyError:\n",
    "                    favoriter_dict[fav_id] = [item_id]\n",
    "        dd_dict[item_id] = entry[8] is not None\n",
    "        time_dict[item_id] = entry[2] < 1502061606-36*3600*24-16*3600-20*60-6 #After July 1st? \n",
    "        expanded_artists.append(artist) #need this for later\n",
    "        times.append(entry[2])\n",
    "        \n",
    "        entry_cat = entry[4]\n",
    "        entry_first_cat = entry_cat.split('/')[0]\n",
    "        cat_dict[item_id] = cat_int_dict[entry_first_cat]\n",
    "                            "
   ]
  },
  {
   "cell_type": "code",
   "execution_count": null,
   "metadata": {
    "collapsed": false,
    "deletable": true,
    "editable": true
   },
   "outputs": [],
   "source": [
    "cat_dict"
   ]
  },
  {
   "cell_type": "code",
   "execution_count": null,
   "metadata": {
    "collapsed": false,
    "deletable": true,
    "editable": true
   },
   "outputs": [],
   "source": [
    "sum(time_dict.values())/len(time_dict)"
   ]
  },
  {
   "cell_type": "code",
   "execution_count": null,
   "metadata": {
    "collapsed": true,
    "deletable": true,
    "editable": true
   },
   "outputs": [],
   "source": [
    "pkl.dump(time_dict, open('time_dict_full.p', 'wb'))"
   ]
  },
  {
   "cell_type": "code",
   "execution_count": null,
   "metadata": {
    "collapsed": false,
    "deletable": true,
    "editable": true
   },
   "outputs": [],
   "source": [
    "pkl.dump(dd_dict, open('dd_dict_full.p', 'wb'))"
   ]
  },
  {
   "cell_type": "code",
   "execution_count": null,
   "metadata": {
    "collapsed": true,
    "deletable": true,
    "editable": true
   },
   "outputs": [],
   "source": [
    "pkl.dump(cat_dict, open('cat_dict_full.p', 'wb'))"
   ]
  },
  {
   "cell_type": "code",
   "execution_count": null,
   "metadata": {
    "collapsed": true,
    "deletable": true,
    "editable": true
   },
   "outputs": [],
   "source": [
    "converted_img_ids = [item_id_dict[item] for item in img_ids]\n",
    "num_favorites = [len(item) for item in favorite_lists]\n",
    "\n",
    "img_nfavs_dict = dict(zip(converted_img_ids, num_favorites))\n",
    "pkl.dump(img_nfavs_dict, open('img_nfavs_full.p', 'wb'))"
   ]
  },
  {
   "cell_type": "code",
   "execution_count": null,
   "metadata": {
    "collapsed": false,
    "deletable": true,
    "editable": true
   },
   "outputs": [],
   "source": [
    "rev = dict(zip(list(user_id_dict.values()), list(user_id_dict.keys()))) #map user_id to user "
   ]
  },
  {
   "cell_type": "code",
   "execution_count": null,
   "metadata": {
    "collapsed": false,
    "deletable": true,
    "editable": true
   },
   "outputs": [],
   "source": [
    "pkl.dump(rev, open('rev_dict_full.p', 'wb'))"
   ]
  },
  {
   "cell_type": "code",
   "execution_count": null,
   "metadata": {
    "collapsed": false,
    "deletable": true,
    "editable": true
   },
   "outputs": [],
   "source": [
    "pkl.dump(favoriter_dict, open('favorited_dict_full.p', 'wb'))\n",
    "pkl.dump((user_id_dict, user_count), open('user_id_full.p', 'wb'))\n",
    "pkl.dump((item_id_dict, item_count), open('item_id_full.p', 'wb'))\n",
    "pkl.dump(id_img_dict,  open('id_img_full.p', 'wb'))\n",
    "\n",
    "\n",
    "max_item = max(item_id_dict.values())\n",
    "max_user = max(user_id_dict.values())\n",
    "pkl.dump((max_item+1, max_user+1), open('useful_stats_full.p', 'wb'))"
   ]
  },
  {
   "cell_type": "code",
   "execution_count": null,
   "metadata": {
    "collapsed": false,
    "deletable": true,
    "editable": true
   },
   "outputs": [],
   "source": [
    "g5 = sum(map(lambda x: len(x)>=5, favoriter_dict.values()))\n",
    "sum_g5 = sum(map(lambda x: len(x) if len(x)>5 else 0, favoriter_dict.values()))\n",
    "num_users = len(user_id_dict)\n",
    "num_items = len(item_id_dict)\n",
    "num_ratings = sum(map(lambda x: len(x), favoriter_dict.values()))\n",
    "\n",
    "print (\"\"\"There are {} users and {} items in the dataset, for a total of {} favorites. \n",
    "Of those users, {} of them have favorited more than 5 objects, accounting for {} ratings.\"\"\".format(\n",
    "    num_users, num_items, num_ratings, g5, sum_g5))"
   ]
  },
  {
   "cell_type": "code",
   "execution_count": null,
   "metadata": {
    "collapsed": true,
    "deletable": true,
    "editable": true
   },
   "outputs": [],
   "source": [
    "artist_dict = {}\n",
    "item_to_artist = {}"
   ]
  },
  {
   "cell_type": "code",
   "execution_count": null,
   "metadata": {
    "collapsed": false,
    "deletable": true,
    "editable": true
   },
   "outputs": [],
   "source": [
    "for artist, img_id, time in zip(expanded_artists,img_ids, times):\n",
    "    artist_id = user_id_dict[artist]\n",
    "    \n",
    "    item_id = item_id_dict[img_id]\n",
    "    try:\n",
    "        artist_dict[artist_id].extend([(item_id, time)])\n",
    "    except:\n",
    "        artist_dict[artist_id] = [(item_id, time)]\n",
    "        \n",
    "    item_to_artist[item_id] = artist_id"
   ]
  },
  {
   "cell_type": "code",
   "execution_count": null,
   "metadata": {
    "collapsed": false,
    "deletable": true,
    "editable": true
   },
   "outputs": [],
   "source": [
    "art_time_dict = {}"
   ]
  },
  {
   "cell_type": "code",
   "execution_count": null,
   "metadata": {
    "collapsed": true,
    "deletable": true,
    "editable": true
   },
   "outputs": [],
   "source": [
    "for img_id, time in zip(img_ids, times):\n",
    "    item_id = item_id_dict[img_id]\n",
    "    art_time_dict[item_id]=time\n"
   ]
  },
  {
   "cell_type": "code",
   "execution_count": null,
   "metadata": {
    "collapsed": true,
    "deletable": true,
    "editable": true
   },
   "outputs": [],
   "source": [
    "pkl.dump(art_time_dict, open('art_time_full.p', 'wb'))"
   ]
  },
  {
   "cell_type": "code",
   "execution_count": null,
   "metadata": {
    "collapsed": false,
    "deletable": true,
    "editable": true
   },
   "outputs": [],
   "source": [
    "import operator\n",
    "\n",
    "for artist in artist_dict:\n",
    "    artist_dict[artist].sort(key=operator.itemgetter(1))\n",
    "    artist_dict[artist] = [i[0] for i in artist_dict[artist]]"
   ]
  },
  {
   "cell_type": "code",
   "execution_count": null,
   "metadata": {
    "collapsed": false,
    "deletable": true,
    "editable": true
   },
   "outputs": [],
   "source": [
    "g5 = sum(map(lambda x: len(x)>=5, artist_dict.values()))\n",
    "g20 = sum(map(lambda x: len(x)>=20, artist_dict.values()))\n",
    "g50 = sum(map(lambda x: len(x)>=50, artist_dict.values()))\n",
    "\n",
    "total50 = sum(map(lambda x: len(x) if len(x)>=50 else 0, artist_dict.values()))\n",
    "\n",
    "total = sum(map(lambda x: len(x), artist_dict.values()))\n",
    "\n",
    "num_artists = len(artist_dict)\n",
    "\n",
    "\n",
    "print('There are {} total artists, of whom {}, {}, {} have more than 5, 20, 50 respectively'.format(num_artists, g5, g20, g50))\n",
    "print ('The {} artists with 50+ uploads have posted {} of the {} pieces of artwork'.format(g50, total50, total))"
   ]
  },
  {
   "cell_type": "code",
   "execution_count": null,
   "metadata": {
    "collapsed": true,
    "deletable": true,
    "editable": true
   },
   "outputs": [],
   "source": [
    "pkl.dump(artist_dict, open('artist_dict_full.p', 'wb'))\n",
    "pkl.dump(item_to_artist, open('item_to_artist_full.p', 'wb'))\n",
    "pkl.dump(art_time_dict, open('art_time_full.p', 'wb'))"
   ]
  }
 ],
 "metadata": {
  "kernelspec": {
   "display_name": "Python 3",
   "language": "python",
   "name": "python3"
  },
  "language_info": {
   "codemirror_mode": {
    "name": "ipython",
    "version": 3
   },
   "file_extension": ".py",
   "mimetype": "text/x-python",
   "name": "python",
   "nbconvert_exporter": "python",
   "pygments_lexer": "ipython3",
   "version": "3.6.1"
  }
 },
 "nbformat": 4,
 "nbformat_minor": 2
}
